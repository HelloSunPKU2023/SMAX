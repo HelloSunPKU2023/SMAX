{
 "cells": [
  {
   "cell_type": "markdown",
   "metadata": {},
   "source": [
    "# Setup Environment"
   ]
  },
  {
   "cell_type": "code",
   "execution_count": 8,
   "metadata": {},
   "outputs": [],
   "source": [
    "%reload_ext autoreload\n",
    "%autoreload 2\n",
    "\n",
    "from src.helper_visualization import *\n",
    "\n",
    "import sys\n",
    "sys.path.append('../src/')\n",
    "\n",
    "from config import *"
   ]
  },
  {
   "cell_type": "code",
   "execution_count": 3,
   "metadata": {},
   "outputs": [],
   "source": [
    "import pandas as pd\n",
    "import numpy as np\n",
    "\n",
    "import optuna\n",
    "\n",
    "from sklearn.model_selection import train_test_split\n",
    "from sklearn.feature_extraction.text import CountVectorizer\n",
    "from sklearn.linear_model import SGDClassifier\n",
    "from sklearn.metrics import accuracy_score\n",
    "from sklearn.metrics import classification_report\n",
    "\n",
    "from sklearn.model_selection import cross_val_score\n",
    "from sklearn.linear_model import SGDClassifier\n",
    "from sklearn.preprocessing import LabelEncoder"
   ]
  },
  {
   "cell_type": "markdown",
   "metadata": {},
   "source": [
    "# Load Data"
   ]
  },
  {
   "cell_type": "code",
   "execution_count": 9,
   "metadata": {},
   "outputs": [
    {
     "data": {
      "text/plain": [
       "'../data/processed'"
      ]
     },
     "execution_count": 9,
     "metadata": {},
     "output_type": "execute_result"
    }
   ],
   "source": [
    "DATA_FOLDER_PATH_PROCESSED"
   ]
  },
  {
   "cell_type": "code",
   "execution_count": 4,
   "metadata": {},
   "outputs": [
    {
     "ename": "NameError",
     "evalue": "name 'DATA_FOLDER_PATH_PROCESSED' is not defined",
     "output_type": "error",
     "traceback": [
      "\u001b[0;31m---------------------------------------------------------------------------\u001b[0m",
      "\u001b[0;31mNameError\u001b[0m                                 Traceback (most recent call last)",
      "\u001b[1;32m/Users/haitao/Documents/Github/slb/CCC v2.0/notebooks/SGD_Classifier.ipynb Cell 5\u001b[0m line \u001b[0;36m1\n\u001b[0;32m----> <a href='vscode-notebook-cell:/Users/haitao/Documents/Github/slb/CCC%20v2.0/notebooks/SGD_Classifier.ipynb#W4sZmlsZQ%3D%3D?line=0'>1</a>\u001b[0m excel_file \u001b[39m=\u001b[39m \u001b[39mf\u001b[39m\u001b[39m'\u001b[39m\u001b[39m{\u001b[39;00mDATA_FOLDER_PATH_PROCESSED\u001b[39m}\u001b[39;00m\u001b[39m/data_cleaned.xlsx\u001b[39m\u001b[39m'\u001b[39m\n\u001b[1;32m      <a href='vscode-notebook-cell:/Users/haitao/Documents/Github/slb/CCC%20v2.0/notebooks/SGD_Classifier.ipynb#W4sZmlsZQ%3D%3D?line=1'>2</a>\u001b[0m df_cleaned \u001b[39m=\u001b[39m pd\u001b[39m.\u001b[39mread_excel(excel_file)\n\u001b[1;32m      <a href='vscode-notebook-cell:/Users/haitao/Documents/Github/slb/CCC%20v2.0/notebooks/SGD_Classifier.ipynb#W4sZmlsZQ%3D%3D?line=2'>3</a>\u001b[0m hist_by_labels(df_cleaned, \u001b[39m'\u001b[39m\u001b[39mLength\u001b[39m\u001b[39m'\u001b[39m, log\u001b[39m=\u001b[39m\u001b[39mFalse\u001b[39;00m)\n",
      "\u001b[0;31mNameError\u001b[0m: name 'DATA_FOLDER_PATH_PROCESSED' is not defined"
     ]
    }
   ],
   "source": [
    "excel_file = f'{DATA_FOLDER_PATH_PROCESSED}/data_cleaned.xlsx'\n",
    "df_cleaned = pd.read_excel(excel_file)\n",
    "hist_by_labels(df_cleaned, 'Length', log=False)"
   ]
  },
  {
   "cell_type": "code",
   "execution_count": null,
   "metadata": {},
   "outputs": [],
   "source": [
    "mask = (df_cleaned['Length'] > 3) & (df_cleaned['Length'] < 25)\n",
    "df_cleaned = df_cleaned[mask]\n",
    "hist_by_labels(df_cleaned, 'Length')"
   ]
  },
  {
   "cell_type": "code",
   "execution_count": null,
   "metadata": {},
   "outputs": [],
   "source": [
    "hist_by_labels(df_cleaned, 'Product Name', top=25, log=True)"
   ]
  },
  {
   "cell_type": "code",
   "execution_count": null,
   "metadata": {},
   "outputs": [],
   "source": [
    "product_counts = df_cleaned['Product Name'].value_counts()\n",
    "cutoff = 450\n",
    "product_top = product_counts.index[product_counts >= cutoff]\n",
    "product_others = product_counts.index[product_counts < cutoff]\n",
    "\n",
    "mask_others = df_cleaned['Product Name'].isin(product_others)\n",
    "df_cleaned.loc[mask_others,'Product Name']='Others'\n",
    "hist_by_labels(df_cleaned, 'Product Name', log=True)"
   ]
  },
  {
   "cell_type": "code",
   "execution_count": null,
   "metadata": {},
   "outputs": [],
   "source": [
    "# verctorize the data\n",
    "vectorizer = CountVectorizer(max_features=20000, analyzer='word', ngram_range=(1, 2))\n",
    "vectorizer.fit(df_cleaned['Title_Cleaned'])\n",
    "\n",
    "# split the data to train and test\n",
    "percent_to_select = 0.15\n",
    "num_rows_to_select = int(len(df_cleaned) * percent_to_select)\n",
    "\n",
    "# Randomly select 10% of the records\n",
    "df_test = df_cleaned.sample(n=num_rows_to_select, random_state=42)  # Adjust 'random_state' as needed for reproducibility\n",
    "\n",
    "# Create the other DataFrame containing the rest of the records\n",
    "df_train = df_cleaned.drop(df_test.index)"
   ]
  },
  {
   "cell_type": "markdown",
   "metadata": {},
   "source": [
    "# Train Petrel_or_Not model"
   ]
  },
  {
   "cell_type": "code",
   "execution_count": null,
   "metadata": {},
   "outputs": [],
   "source": [
    "product_counts = df_train['Product Name'].value_counts()\n",
    "product_others = product_counts.index[product_counts < 10000]\n",
    "\n",
    "mask_others = df_train['Product Name'].isin(product_others)\n",
    "df_petrel_or_not = df_train.copy()\n",
    "df_petrel_or_not.loc[mask_others,'Product Name']='Others'\n",
    "\n",
    "hist_by_labels(df_petrel_or_not, 'Product Name', log=False, horizontal=False)"
   ]
  },
  {
   "cell_type": "code",
   "execution_count": null,
   "metadata": {},
   "outputs": [],
   "source": [
    "#Balance the dataset by reducing the records from Petrel\n",
    "import random\n",
    "\n",
    "# Calculate the number of 'abc' records to delete (2/3 of the total 'abc' records)\n",
    "others_records = df_petrel_or_not[df_petrel_or_not['Product Name'] == 'Others']\n",
    "records_to_delete = 30000\n",
    "\n",
    "# Randomly select the indices of 'abc' records to delete\n",
    "indices_to_delete = random.sample(others_records.index.tolist(), records_to_delete)\n",
    "\n",
    "# Delete the selected rows from the DataFrame\n",
    "df_petrel_or_not = df_petrel_or_not.drop(indices_to_delete)\n",
    "hist_by_labels(df_petrel_or_not, 'Product Name', log=False, horizontal=False)"
   ]
  },
  {
   "cell_type": "code",
   "execution_count": null,
   "metadata": {},
   "outputs": [],
   "source": [
    "# Step 1: Data Preparation\n",
    "# Split the data into features (X) and target labels (y)\n",
    "X = df_petrel_or_not['Title_Cleaned']\n",
    "y = df_petrel_or_not['Product Name']\n",
    "\n",
    "# # Step 2: Word Embeddings with Count Vectorizer (FastText-like)\n",
    "X_encoded = vectorizer.transform(X)\n",
    "\n",
    "# Step 3: Model Training (Logistic Regression)\n",
    "X_train, X_val, y_train, y_val = train_test_split(X_encoded, y, test_size=0.1, random_state=42)\n",
    "\n",
    "model_petrel_or_not = SGDClassifier(\n",
    "    max_iter=5000\n",
    ")\n",
    "model_petrel_or_not.fit(X_train, y_train)\n",
    "\n",
    "# Step 4: Model Evaluation\n",
    "y_pred_petrel = model_petrel_or_not.predict(X_val)\n",
    "accuracy = accuracy_score(y_val, y_pred_petrel)\n",
    "print(f\"Accuracy: {accuracy:.3f}\")\n",
    "\n",
    "# Optionally, you can generate a classification report for more detailed metrics\n",
    "print(classification_report(y_val, y_pred_petrel, digits=3))"
   ]
  },
  {
   "cell_type": "markdown",
   "metadata": {},
   "source": [
    "# Train the_Rest Model"
   ]
  },
  {
   "cell_type": "code",
   "execution_count": null,
   "metadata": {},
   "outputs": [],
   "source": [
    "df_rests = df_train.copy()\n",
    "\n",
    "#Balance the dataset by reducing the records from Petrel\n",
    "import random\n",
    "\n",
    "# Calculate the number of 'Petrel' records to delete some records\n",
    "petrel_records = df_rests[df_rests['Product Name'] == 'Petrel']\n",
    "records_to_delete = len(petrel_records)//10*8*0\n",
    "indices_to_delete = random.sample(petrel_records.index.tolist(), records_to_delete)\n",
    "df_rests = df_rests.drop(indices_to_delete)\n",
    "\n",
    "hist_by_labels(df_rests, 'Product Name', log=False)"
   ]
  },
  {
   "cell_type": "code",
   "execution_count": null,
   "metadata": {},
   "outputs": [],
   "source": [
    "# Step 1: Data Preparation\n",
    "# Split the data into features (X) and target labels (y)\n",
    "X = df_rests['Title_Cleaned']\n",
    "y = df_rests['Product Name']\n",
    "\n",
    "# Step 2: Word Embeddings with Count Vectorizer (FastText-like)\n",
    "X_encoded = vectorizer.transform(X)\n",
    "\n",
    "# Step 3: Model Training (Logistic Regression)\n",
    "X_train, X_val, y_train, y_val = train_test_split(X_encoded, y, test_size=0.1, random_state=42)\n",
    "\n",
    "# weights = df_rests['ProductName'].value_counts().apply(np.sqrt).to_dict()\n",
    "model_rests_baseline = SGDClassifier(\n",
    "    max_iter=5000,\n",
    ")\n",
    "model_rests_baseline.fit(X_train, y_train)\n",
    "\n",
    "# Step 4: Model Evaluation\n",
    "y_pred_others = model_rests_baseline.predict(X_val)\n",
    "accuracy = accuracy_score(y_val, y_pred_others)\n",
    "print(f\"Accuracy: {accuracy:.3f}\")\n",
    "\n",
    "# Optionally, you can generate a classification report for more detailed metrics\n",
    "print(classification_report(y_val, y_pred_others, digits=3))"
   ]
  },
  {
   "cell_type": "code",
   "execution_count": null,
   "metadata": {},
   "outputs": [],
   "source": [
    "# Define an objective function to optimize\n",
    "def objective(trial):\n",
    "\n",
    "    # Define hyperparameter search space\n",
    "\n",
    "    pamams = {\n",
    "        'loss': trial.suggest_categorical('loss', ['hinge', 'log_loss', 'modified_huber']),\n",
    "        'alpha': trial.suggest_float('alpha', 1e-6, 1e+2, log=True),\n",
    "        'penalty': trial.suggest_categorical('penalty', ['l1', 'l2']),\n",
    "        'max_iter': 5000,\n",
    "        'random_state': 42\n",
    "    }\n",
    "    \n",
    "    # Create and train the SGD Classifier with suggested hyperparameters\n",
    "    sgd_classifier = SGDClassifier(**pamams)\n",
    "\n",
    "    # Evaluate the model on the validation set\n",
    "    scores = cross_val_score(sgd_classifier, X_train, y_train, cv=5, scoring='accuracy')\n",
    "\n",
    "    return np.mean(scores)\n",
    "\n",
    "# Create an Optuna study and optimize the objective function\n",
    "study = optuna.create_study(direction='maximize')\n",
    "study.optimize(\n",
    "    objective,\n",
    "    n_trials=50, \n",
    "    n_jobs=-1, \n",
    "    show_progress_bar=True\n",
    "    )  # You can adjust the number of trials\n",
    "\n",
    "# Print the best hyperparameters and corresponding accuracy\n",
    "best_params = study.best_params\n",
    "best_accuracy = study.best_value\n",
    "# Create and train the best Logistic Regression model\n",
    "model_rests_best = SGDClassifier(**best_params)\n",
    "model_rests_best.fit(X_train, y_train)\n",
    "print(\"Best Hyperparameters:\", best_params)\n",
    "print(\"Best Accuracy:\", best_accuracy)"
   ]
  },
  {
   "cell_type": "code",
   "execution_count": null,
   "metadata": {},
   "outputs": [],
   "source": [
    "# Predict categories for the test data\n",
    "y_pred = model_rests_best.predict(X_val)\n",
    "print(classification_report(y_val, y_pred, digits=3))"
   ]
  },
  {
   "cell_type": "markdown",
   "metadata": {},
   "source": [
    "# Assemble Model"
   ]
  },
  {
   "cell_type": "code",
   "execution_count": null,
   "metadata": {},
   "outputs": [],
   "source": [
    "predictions_2L(['Others', 'Others'], ['Petrotechnical Suite - Domain Profiles', 'Techlog'])"
   ]
  },
  {
   "cell_type": "code",
   "execution_count": null,
   "metadata": {},
   "outputs": [],
   "source": [
    "i  = 10\n",
    "y_pred_petrel[i], y_pred_others[i], y_pred_2L[i]"
   ]
  },
  {
   "cell_type": "code",
   "execution_count": null,
   "metadata": {},
   "outputs": [],
   "source": [
    "def predictions_2L(predictions_petrel, predictions_others):\n",
    "    predictions = predictions_others.copy()\n",
    "    for i in range(len(predictions)):\n",
    "        if predictions_petrel[i] == 'Petrel':\n",
    "            predictions[i] = 'Petrel'\n",
    "    return predictions\n",
    "\n",
    "X = df_test['Title_Cleaned']\n",
    "y_test = df_test['Product Name']\n",
    "\n",
    "X_encoded = vectorizer.transform(X)\n",
    "y_pred_petrel = model_petrel_or_not.predict(X_encoded)\n",
    "\n",
    "model_rests = model_rests_baseline\n",
    "model_rests = model_rests_best\n",
    "y_pred_rests = model_rests.predict(X_encoded)\n",
    "\n",
    "y_pred_2L = predictions_2L(y_pred_petrel, y_pred_rests)\n",
    "accuracy = accuracy_score(y_test, y_pred_2L)\n",
    "print(f\"Accuracy: {accuracy:.3f}\")\n",
    "\n",
    "print(classification_report(y_test, y_pred_2L, digits=3))"
   ]
  }
 ],
 "metadata": {
  "kernelspec": {
   "display_name": "CCC",
   "language": "python",
   "name": "python3"
  },
  "language_info": {
   "codemirror_mode": {
    "name": "ipython",
    "version": 3
   },
   "file_extension": ".py",
   "mimetype": "text/x-python",
   "name": "python",
   "nbconvert_exporter": "python",
   "pygments_lexer": "ipython3",
   "version": "3.11.5"
  }
 },
 "nbformat": 4,
 "nbformat_minor": 2
}
