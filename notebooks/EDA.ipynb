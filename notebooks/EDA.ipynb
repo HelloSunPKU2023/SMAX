{
 "cells": [
  {
   "cell_type": "code",
   "execution_count": null,
   "metadata": {},
   "outputs": [],
   "source": [
    "from collections import defaultdict\n",
    "from nltk.corpus import stopwords\n",
    "from wordcloud import WordCloud\n",
    "import tqdm\n",
    "import matplotlib.pyplot as plt\n",
    "import pandas as pd\n",
    "import numpy as np\n",
    "\n",
    "import sys\n",
    "sys.path.append('../')\n",
    "\n",
    "from src.config import *\n",
    "\n",
    "stop = set(stopwords.words('english'))\n",
    "\n",
    "data_url = f'{DATA_FOLDER_PATH_PROCESSED}/data_consolidated.xlsx'\n",
    "df = pd.read_excel(data_url)"
   ]
  },
  {
   "cell_type": "code",
   "execution_count": null,
   "metadata": {},
   "outputs": [],
   "source": [
    "df.head(10)"
   ]
  },
  {
   "cell_type": "code",
   "execution_count": null,
   "metadata": {},
   "outputs": [],
   "source": [
    "def create_corpus(df, col):\n",
    "    corpus = []\n",
    "\n",
    "    for x in tqdm.tqdm(df[col].str.split()):\n",
    "        if x == x:\n",
    "            for i in x:\n",
    "                corpus.append(i)\n",
    "\n",
    "    return corpus"
   ]
  },
  {
   "cell_type": "code",
   "execution_count": null,
   "metadata": {},
   "outputs": [],
   "source": [
    "import string\n",
    "\n",
    "corpus = create_corpus(df, 'Title')\n",
    "plt.figure(figsize=(15,5))\n",
    "\n",
    "dic = defaultdict(int)\n",
    "special = string.punctuation\n",
    "for i in (corpus):\n",
    "    if i in special:\n",
    "        dic[i]+=1\n",
    "x,y = zip(*dic.items())\n",
    "plt.bar(x,y, color = 'blue')"
   ]
  },
  {
   "cell_type": "code",
   "execution_count": null,
   "metadata": {},
   "outputs": [],
   "source": [
    "corpus = create_corpus(df, 'Tags')\n",
    "\n",
    "dic = defaultdict(int)\n",
    "for word in corpus:\n",
    "    if word not in stop:\n",
    "        dic[word] += 1\n",
    "        \n",
    "top_n = 20 \n",
    "top = sorted(dic.items(), key=lambda x:x[1], reverse=True)[:top_n]\n",
    "\n",
    "plt.rcParams['figure.figsize'] = (15, 5)\n",
    "plt.style.use('fivethirtyeight')\n",
    "x, y = zip(*top)\n",
    "plt.bar(x, y, color = 'blue')\n",
    "plt.title(f'Top {top_n} Stopwords', fontsize = 20)\n",
    "plt.xlabel('Stopwords')\n",
    "plt.ylabel('Count')\n",
    "\n",
    "plt.show()"
   ]
  },
  {
   "cell_type": "code",
   "execution_count": null,
   "metadata": {},
   "outputs": [],
   "source": [
    "corpus = create_corpus(df, 'Title_Translated')\n",
    "\n",
    "plt.figure(figsize=(16,12))\n",
    "word_cloud = WordCloud(\n",
    "                        background_color='black',\n",
    "                        max_font_size = 30\n",
    "                        ).generate(\" \".join(corpus[:200]))\n",
    "plt.imshow(word_cloud)\n",
    "plt.axis('off')\n",
    "plt.show()"
   ]
  },
  {
   "cell_type": "code",
   "execution_count": null,
   "metadata": {},
   "outputs": [],
   "source": [
    "corpus = create_corpus(df, 'Tags')\n",
    "\n",
    "plt.figure(figsize=(16,12))\n",
    "word_cloud = WordCloud(\n",
    "                        background_color='black',\n",
    "                        max_font_size = 30\n",
    "                        ).generate(\" \".join(corpus[:200]))\n",
    "plt.imshow(word_cloud)\n",
    "plt.axis('off')\n",
    "plt.show()"
   ]
  }
 ],
 "metadata": {
  "kernelspec": {
   "display_name": "TFT",
   "language": "python",
   "name": "python3"
  },
  "language_info": {
   "codemirror_mode": {
    "name": "ipython",
    "version": 3
   },
   "file_extension": ".py",
   "mimetype": "text/x-python",
   "name": "python",
   "nbconvert_exporter": "python",
   "pygments_lexer": "ipython3",
   "version": "3.11.6"
  }
 },
 "nbformat": 4,
 "nbformat_minor": 2
}
