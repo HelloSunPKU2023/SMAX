{
 "cells": [
  {
   "cell_type": "code",
   "execution_count": null,
   "metadata": {},
   "outputs": [],
   "source": [
    "%reload_ext autoreload\n",
    "%autoreload 2\n",
    "from collections import defaultdict\n",
    "from nltk.corpus import stopwords\n",
    "from wordcloud import WordCloud\n",
    "import tqdm\n",
    "import matplotlib.pyplot as plt\n",
    "import pandas as pd\n",
    "import numpy as np\n",
    "\n",
    "import sys\n",
    "sys.path.append('../')\n",
    "\n",
    "from src.config import *\n",
    "from src.helper_visualization import *\n",
    "\n",
    "stop = set(stopwords.words('english'))\n",
    "\n",
    "# df_processed = pd.read_excel(f'{DATA_FOLDER_PATH_PROCESSED}/data_processed.xlsx')\n",
    "\n",
    "# df_translated = pd.read_excel(f'{DATA_FOLDER_PATH_PROCESSED}/data_translated.xlsx')\n",
    "\n",
    "if 'df_consolidated' not in locals():\n",
    "    data_url = f'{DATA_FOLDER_PATH_PROCESSED}/data_consolidated.xlsx'\n",
    "    df_consolidated = pd.read_excel(data_url)\n",
    "\n",
    "    # train_data_url = f'{DATA_FOLDER_PATH_PROCESSED}/data_train.xlsx'\n",
    "    # df_train = pd.read_excel(train_data_url)\n",
    "\n",
    "    # test_data_url = f'{DATA_FOLDER_PATH_PROCESSED}/data_test.xlsx'\n",
    "    # df_test = pd.read_excel(test_data_url)"
   ]
  },
  {
   "cell_type": "markdown",
   "metadata": {},
   "source": [
    "# Helper functions"
   ]
  },
  {
   "cell_type": "code",
   "execution_count": null,
   "metadata": {},
   "outputs": [],
   "source": [
    "\n",
    "def create_corpus(df, col):\n",
    "    corpus = []\n",
    "\n",
    "    for x in tqdm.tqdm(df[col].str.split()):\n",
    "        if x == x:\n",
    "            for i in x:\n",
    "                corpus.append(i)\n",
    "\n",
    "    return corpus\n",
    "def top_n_words(df, col, top_n=50):\n",
    "    corpus = create_corpus(df, col)\n",
    "\n",
    "    dic = defaultdict(int)\n",
    "    for word in corpus:\n",
    "        if word not in stop:\n",
    "            dic[word] += 1\n",
    "            \n",
    "    top_n = top_n \n",
    "    top = sorted(dic.items(), key=lambda x:x[1], reverse=True)[:top_n]\n",
    "\n",
    "    plt.rcParams['figure.figsize'] = (20, 30)\n",
    "    plt.style.use('fivethirtyeight')\n",
    "    x, y = zip(*top)\n",
    "    plt.barh(x, y, color = 'blue')\n",
    "    \n",
    "    plt.title(f'Top {top_n} Words', fontsize = 20)\n",
    "    # plt.xlabel('Words')\n",
    "    plt.ylabel('Count')\n",
    "    plt.xticks(rotation = 90, horizontalalignment = 'center')\n",
    "    plt.show()\n",
    "\n",
    "def plot_word_cloud(df, col):\n",
    "    corpus = create_corpus(df, col)\n",
    "    plt.figure(figsize=(16,12))\n",
    "    word_cloud = WordCloud(\n",
    "                            background_color='black',\n",
    "                            max_font_size = 30\n",
    "                            ).generate(\" \".join(corpus[:200]))\n",
    "    plt.imshow(word_cloud)\n",
    "    plt.axis('off')\n",
    "    plt.show()"
   ]
  },
  {
   "cell_type": "markdown",
   "metadata": {},
   "source": [
    "# Explore the data"
   ]
  },
  {
   "cell_type": "code",
   "execution_count": null,
   "metadata": {},
   "outputs": [],
   "source": [
    "import string\n",
    "\n",
    "corpus = create_corpus(df_consolidated, 'Title_Translated')\n",
    "plt.figure(figsize=(15,5))\n",
    "\n",
    "dic = defaultdict(int)\n",
    "special = string.punctuation\n",
    "for i in (corpus):\n",
    "    if i in special:\n",
    "        dic[i]+=1\n",
    "x,y = zip(*dic.items())\n",
    "plt.bar(x,y) vertical bar"
   ]
  },
  {
   "cell_type": "code",
   "execution_count": null,
   "metadata": {},
   "outputs": [],
   "source": [
    "top_n_words(df_consolidated, 'Tags')"
   ]
  },
  {
   "cell_type": "code",
   "execution_count": null,
   "metadata": {},
   "outputs": [],
   "source": [
    "df_consolidated['Tag_length'] = df_consolidated['Tags'].apply(lambda x: len(x.split()))\n",
    "hist_by_labels(df_consolidated, 'Tag_length', fig_height=4, log=False)"
   ]
  },
  {
   "cell_type": "code",
   "execution_count": null,
   "metadata": {},
   "outputs": [],
   "source": [
    "df_tag_length_1 = df_consolidated[df_consolidated['Tag_length'] == 1]\n",
    "df_tag_length_2 = df_consolidated[df_consolidated['Tag_length'] == 2]\n",
    "df_tag_length_3 = df_consolidated[df_consolidated['Tag_length'] == 3]\n",
    "df_tag_length_4 = df_consolidated[df_consolidated['Tag_length'] == 4]\n",
    "df_tag_length_5 = df_consolidated[df_consolidated['Tag_length'] == 5]\n",
    "df_tag_length_6 = df_consolidated[df_consolidated['Tag_length'] == 6]\n",
    "df_tag_length_7 = df_consolidated[df_consolidated['Tag_length'] == 7]\n",
    "df_tag_length_8 = df_consolidated[df_consolidated['Tag_length'] == 8]\n",
    "df_tag_length_9 = df_consolidated[df_consolidated['Tag_length'] == 9]\n",
    "df_tag_length_10 = df_consolidated[df_consolidated['Tag_length'] == 10]\n",
    "df_tag_length_11 = df_consolidated[df_consolidated['Tag_length'] >= 11]"
   ]
  },
  {
   "cell_type": "code",
   "execution_count": null,
   "metadata": {},
   "outputs": [],
   "source": [
    "# show the words count in df_tag_length_2 'tags' columns\n",
    "top_n_words(df_processed, 'Title_Processed')"
   ]
  },
  {
   "cell_type": "code",
   "execution_count": null,
   "metadata": {},
   "outputs": [],
   "source": [
    "len_title = df_processed['Title'].apply(lambda x: len(x.split()))\n",
    "len_title_processed = df_processed['Title_Processed'].apply(lambda x: len(x.split()))\n",
    "# plot two histograms sidd by side in one plot\n",
    "fig, axes = plt.subplots(1, 1, figsize=(15, 5))\n",
    "axes.hist([len_title, len_title_processed], bins=30)\n",
    "#set the bin width\n",
    "axes.set_title('Title Length')\n",
    "plt.legend(['Title', 'Title Processed'])\n",
    "plt.show()"
   ]
  }
 ],
 "metadata": {
  "kernelspec": {
   "display_name": "TFT",
   "language": "python",
   "name": "python3"
  },
  "language_info": {
   "codemirror_mode": {
    "name": "ipython",
    "version": 3
   },
   "file_extension": ".py",
   "mimetype": "text/x-python",
   "name": "python",
   "nbconvert_exporter": "python",
   "pygments_lexer": "ipython3",
   "version": "3.11.6"
  }
 },
 "nbformat": 4,
 "nbformat_minor": 2
}
