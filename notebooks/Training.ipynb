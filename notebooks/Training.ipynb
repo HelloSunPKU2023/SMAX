{
 "cells": [
  {
   "cell_type": "markdown",
   "id": "7b937898",
   "metadata": {},
   "source": [
    "# Import modules"
   ]
  },
  {
   "cell_type": "code",
   "execution_count": 1,
   "id": "a9bfc6d8-5b16-46c7-9c7d-20d869a41ed8",
   "metadata": {
    "ExecuteTime": {
     "end_time": "2023-10-16T09:32:43.980824Z",
     "start_time": "2023-10-16T09:32:42.963982Z"
    }
   },
   "outputs": [],
   "source": [
    "%reload_ext autoreload\n",
    "%autoreload 2\n",
    "\n",
    "import pandas as pd\n",
    "import numpy as np\n",
    "\n",
    "import sys\n",
    "sys.path.append('../')\n",
    "from src.config import *\n",
    "from src.helper_visualization import *\n",
    "from src.helper_pred import *\n",
    "from src.helper_pipeline import *"
   ]
  },
  {
   "cell_type": "markdown",
   "id": "1740a0f1",
   "metadata": {},
   "source": [
    "# Configuration"
   ]
  },
  {
   "cell_type": "code",
   "execution_count": 29,
   "id": "571d43cb-9c69-4ee3-af91-93d06408057b",
   "metadata": {},
   "outputs": [],
   "source": [
    "# CONGRATULATIONS, ready to go 🚀\n",
    "\n",
    "# DATA PREPARATION\n",
    "TITLE_WORDS_MIN = 4             # the minimum number of words in the title\n",
    "TITLE_WORDS_MAX = 15            # the maximum number of words in the title\n",
    "TEXT_COL = 'Title_Translated'   # the text column to be used for training\n",
    "TARGET_COL = 'Product Name'     # the target column to be used for training\n",
    "FILER_COL = 'Length'            # the filter column to be used for training\n",
    "MAX_FEATURES = 20000            # the maximum number of features for vectorizer\n",
    "PRODUCT_SIZE_MAX_TRAIN = 4000   # the maximum number of samples for each product in training set to balance the data\n",
    "PRODUCT_SIZE_MAX_TEST = None    # the maximum number of samples for each product in test set to balance the data\n",
    "TOP_N_PRODUCTS = 25             # the top n products to be used for training, the rest will be lumped into 'Others'\n",
    "PRODUCT_OTHERS = f'Other Products (not in Top {TOP_N_PRODUCTS})' # the name of the 'Others' product\n",
    "# TRAINING\n",
    "CLASS_WEIGHT_FACTOR = 3         # the times of the largest class as the weight of the minor classes. set to 1 to disable class weight\n",
    "\n",
    "# CONGRATULATIONS, ready to go 🚀"
   ]
  },
  {
   "cell_type": "markdown",
   "id": "01cee41b",
   "metadata": {},
   "source": [
    "# Load Data"
   ]
  },
  {
   "cell_type": "code",
   "execution_count": null,
   "id": "69b428fe",
   "metadata": {},
   "outputs": [],
   "source": [
    "if 'df_train' not in locals():\n",
    "    excel_file_train = f'{DATA_FOLDER_PATH_PROCESSED}/data_train.xlsx'\n",
    "    df_train = pd.read_excel(excel_file_train)\n",
    "    excel_file_test = f'{DATA_FOLDER_PATH_PROCESSED}/data_test.xlsx'\n",
    "    df_test = pd.read_excel(excel_file_test)\n",
    "\n",
    "hist_by_labels(df_train, 'Length', log=False, left=TITLE_WORDS_MIN-.5, right=TITLE_WORDS_MAX+.5)\n",
    "hist_by_labels(df_train, 'Product Name', log=True, right=TOP_N_PRODUCTS-.5)\n",
    "\n",
    "# Get the Product Name list of Top N products\n",
    "def get_top_n_products(df, target_col, n):\n",
    "    df_target = df[target_col].value_counts().to_frame().reset_index()\n",
    "    df_target.columns = [target_col, 'count']\n",
    "    df_target = df_target.sort_values(by='count', ascending=False)\n",
    "    df_target = df_target.head(n)\n",
    "    return df_target[target_col].tolist()\n",
    "\n",
    "top_n_products = get_top_n_products(df_train, TARGET_COL, TOP_N_PRODUCTS)"
   ]
  },
  {
   "cell_type": "markdown",
   "id": "05769ab9",
   "metadata": {},
   "source": [
    "# Train/Test Datasets"
   ]
  },
  {
   "cell_type": "markdown",
   "id": "224206bb",
   "metadata": {},
   "source": [
    "Pipeline Construction"
   ]
  },
  {
   "cell_type": "code",
   "execution_count": 3,
   "id": "749006ba",
   "metadata": {},
   "outputs": [
    {
     "data": {
      "text/html": [
       "<style>#sk-container-id-1 {color: black;}#sk-container-id-1 pre{padding: 0;}#sk-container-id-1 div.sk-toggleable {background-color: white;}#sk-container-id-1 label.sk-toggleable__label {cursor: pointer;display: block;width: 100%;margin-bottom: 0;padding: 0.3em;box-sizing: border-box;text-align: center;}#sk-container-id-1 label.sk-toggleable__label-arrow:before {content: \"▸\";float: left;margin-right: 0.25em;color: #696969;}#sk-container-id-1 label.sk-toggleable__label-arrow:hover:before {color: black;}#sk-container-id-1 div.sk-estimator:hover label.sk-toggleable__label-arrow:before {color: black;}#sk-container-id-1 div.sk-toggleable__content {max-height: 0;max-width: 0;overflow: hidden;text-align: left;background-color: #f0f8ff;}#sk-container-id-1 div.sk-toggleable__content pre {margin: 0.2em;color: black;border-radius: 0.25em;background-color: #f0f8ff;}#sk-container-id-1 input.sk-toggleable__control:checked~div.sk-toggleable__content {max-height: 200px;max-width: 100%;overflow: auto;}#sk-container-id-1 input.sk-toggleable__control:checked~label.sk-toggleable__label-arrow:before {content: \"▾\";}#sk-container-id-1 div.sk-estimator input.sk-toggleable__control:checked~label.sk-toggleable__label {background-color: #d4ebff;}#sk-container-id-1 div.sk-label input.sk-toggleable__control:checked~label.sk-toggleable__label {background-color: #d4ebff;}#sk-container-id-1 input.sk-hidden--visually {border: 0;clip: rect(1px 1px 1px 1px);clip: rect(1px, 1px, 1px, 1px);height: 1px;margin: -1px;overflow: hidden;padding: 0;position: absolute;width: 1px;}#sk-container-id-1 div.sk-estimator {font-family: monospace;background-color: #f0f8ff;border: 1px dotted black;border-radius: 0.25em;box-sizing: border-box;margin-bottom: 0.5em;}#sk-container-id-1 div.sk-estimator:hover {background-color: #d4ebff;}#sk-container-id-1 div.sk-parallel-item::after {content: \"\";width: 100%;border-bottom: 1px solid gray;flex-grow: 1;}#sk-container-id-1 div.sk-label:hover label.sk-toggleable__label {background-color: #d4ebff;}#sk-container-id-1 div.sk-serial::before {content: \"\";position: absolute;border-left: 1px solid gray;box-sizing: border-box;top: 0;bottom: 0;left: 50%;z-index: 0;}#sk-container-id-1 div.sk-serial {display: flex;flex-direction: column;align-items: center;background-color: white;padding-right: 0.2em;padding-left: 0.2em;position: relative;}#sk-container-id-1 div.sk-item {position: relative;z-index: 1;}#sk-container-id-1 div.sk-parallel {display: flex;align-items: stretch;justify-content: center;background-color: white;position: relative;}#sk-container-id-1 div.sk-item::before, #sk-container-id-1 div.sk-parallel-item::before {content: \"\";position: absolute;border-left: 1px solid gray;box-sizing: border-box;top: 0;bottom: 0;left: 50%;z-index: -1;}#sk-container-id-1 div.sk-parallel-item {display: flex;flex-direction: column;z-index: 1;position: relative;background-color: white;}#sk-container-id-1 div.sk-parallel-item:first-child::after {align-self: flex-end;width: 50%;}#sk-container-id-1 div.sk-parallel-item:last-child::after {align-self: flex-start;width: 50%;}#sk-container-id-1 div.sk-parallel-item:only-child::after {width: 0;}#sk-container-id-1 div.sk-dashed-wrapped {border: 1px dashed gray;margin: 0 0.4em 0.5em 0.4em;box-sizing: border-box;padding-bottom: 0.4em;background-color: white;}#sk-container-id-1 div.sk-label label {font-family: monospace;font-weight: bold;display: inline-block;line-height: 1.2em;}#sk-container-id-1 div.sk-label-container {text-align: center;}#sk-container-id-1 div.sk-container {/* jupyter's `normalize.less` sets `[hidden] { display: none; }` but bootstrap.min.css set `[hidden] { display: none !important; }` so we also need the `!important` here to be able to override the default hidden behavior on the sphinx rendered scikit-learn.org. See: https://github.com/scikit-learn/scikit-learn/issues/21755 */display: inline-block !important;position: relative;}#sk-container-id-1 div.sk-text-repr-fallback {display: none;}</style><div id=\"sk-container-id-1\" class=\"sk-top-container\"><div class=\"sk-text-repr-fallback\"><pre>Pipeline(steps=[(&#x27;title_length_filter&#x27;,\n",
       "                 TitleLengthFilter(max_words=15, min_words=4)),\n",
       "                (&#x27;other_products_combiner&#x27;,\n",
       "                 OtherProductsCombiner(target_col=&#x27;Product Name&#x27;,\n",
       "                                       top_products=[&#x27;Petrel&#x27;,\n",
       "                                                     &#x27;RE (Petrel RE, DELFI RE, &#x27;\n",
       "                                                     &#x27;ECLIPSE, INTERSECT, &#x27;\n",
       "                                                     &#x27;ODRS, FluidModeler)&#x27;,\n",
       "                                                     &#x27;Delfi Portal&#x27;, &#x27;Techlog&#x27;,\n",
       "                                                     &#x27;RTDS&#x27;,\n",
       "                                                     &#x27;ProdOps, Avocet, PDF&#x27;,\n",
       "                                                     &#x27;OFM&#x27;, &#x27;PIPESIM, IAM&#x27;,\n",
       "                                                     &#x27;Deployment&#x27;, &#x27;OLGA&#x27;,\n",
       "                                                     &#x27;DrillPlan&#x27;, &#x27;Studio&#x27;,\n",
       "                                                     &#x27;Edge&#x27;, &#x27;RigHour&#x27;,\n",
       "                                                     &#x27;Storage, File &#x27;\n",
       "                                                     &#x27;Management, Secure Data &#x27;\n",
       "                                                     &#x27;Exchange&#x27;,\n",
       "                                                     &#x27;MERAK&#x27;,\n",
       "                                                     &#x27;Omega, VISTA, OMNI3D&#x27;,\n",
       "                                                     &#x27;Symmetry&#x27;,\n",
       "                                                     &#x27;ProSource, InnerLogix&#x27;,\n",
       "                                                     &#x27;PetroMod&#x27;, &#x27;DrillOps&#x27;,\n",
       "                                                     &#x27;GeoX&#x27;, &#x27;InterACT Inside&#x27;,\n",
       "                                                     &#x27;3rd Party&#x27;,\n",
       "                                                     &#x27;Data Science&#x27;])),\n",
       "                (&#x27;sample_capper&#x27;,\n",
       "                 SampleCapper(max_samples=4000, target_col=&#x27;Product Name&#x27;)),\n",
       "                (&#x27;text_lower&#x27;, TextLower(text_col=&#x27;Title_Translated&#x27;))])</pre><b>In a Jupyter environment, please rerun this cell to show the HTML representation or trust the notebook. <br />On GitHub, the HTML representation is unable to render, please try loading this page with nbviewer.org.</b></div><div class=\"sk-container\" hidden><div class=\"sk-item sk-dashed-wrapped\"><div class=\"sk-label-container\"><div class=\"sk-label sk-toggleable\"><input class=\"sk-toggleable__control sk-hidden--visually\" id=\"sk-estimator-id-1\" type=\"checkbox\" ><label for=\"sk-estimator-id-1\" class=\"sk-toggleable__label sk-toggleable__label-arrow\">Pipeline</label><div class=\"sk-toggleable__content\"><pre>Pipeline(steps=[(&#x27;title_length_filter&#x27;,\n",
       "                 TitleLengthFilter(max_words=15, min_words=4)),\n",
       "                (&#x27;other_products_combiner&#x27;,\n",
       "                 OtherProductsCombiner(target_col=&#x27;Product Name&#x27;,\n",
       "                                       top_products=[&#x27;Petrel&#x27;,\n",
       "                                                     &#x27;RE (Petrel RE, DELFI RE, &#x27;\n",
       "                                                     &#x27;ECLIPSE, INTERSECT, &#x27;\n",
       "                                                     &#x27;ODRS, FluidModeler)&#x27;,\n",
       "                                                     &#x27;Delfi Portal&#x27;, &#x27;Techlog&#x27;,\n",
       "                                                     &#x27;RTDS&#x27;,\n",
       "                                                     &#x27;ProdOps, Avocet, PDF&#x27;,\n",
       "                                                     &#x27;OFM&#x27;, &#x27;PIPESIM, IAM&#x27;,\n",
       "                                                     &#x27;Deployment&#x27;, &#x27;OLGA&#x27;,\n",
       "                                                     &#x27;DrillPlan&#x27;, &#x27;Studio&#x27;,\n",
       "                                                     &#x27;Edge&#x27;, &#x27;RigHour&#x27;,\n",
       "                                                     &#x27;Storage, File &#x27;\n",
       "                                                     &#x27;Management, Secure Data &#x27;\n",
       "                                                     &#x27;Exchange&#x27;,\n",
       "                                                     &#x27;MERAK&#x27;,\n",
       "                                                     &#x27;Omega, VISTA, OMNI3D&#x27;,\n",
       "                                                     &#x27;Symmetry&#x27;,\n",
       "                                                     &#x27;ProSource, InnerLogix&#x27;,\n",
       "                                                     &#x27;PetroMod&#x27;, &#x27;DrillOps&#x27;,\n",
       "                                                     &#x27;GeoX&#x27;, &#x27;InterACT Inside&#x27;,\n",
       "                                                     &#x27;3rd Party&#x27;,\n",
       "                                                     &#x27;Data Science&#x27;])),\n",
       "                (&#x27;sample_capper&#x27;,\n",
       "                 SampleCapper(max_samples=4000, target_col=&#x27;Product Name&#x27;)),\n",
       "                (&#x27;text_lower&#x27;, TextLower(text_col=&#x27;Title_Translated&#x27;))])</pre></div></div></div><div class=\"sk-serial\"><div class=\"sk-item\"><div class=\"sk-estimator sk-toggleable\"><input class=\"sk-toggleable__control sk-hidden--visually\" id=\"sk-estimator-id-2\" type=\"checkbox\" ><label for=\"sk-estimator-id-2\" class=\"sk-toggleable__label sk-toggleable__label-arrow\">TitleLengthFilter</label><div class=\"sk-toggleable__content\"><pre>TitleLengthFilter(max_words=15, min_words=4)</pre></div></div></div><div class=\"sk-item\"><div class=\"sk-estimator sk-toggleable\"><input class=\"sk-toggleable__control sk-hidden--visually\" id=\"sk-estimator-id-3\" type=\"checkbox\" ><label for=\"sk-estimator-id-3\" class=\"sk-toggleable__label sk-toggleable__label-arrow\">OtherProductsCombiner</label><div class=\"sk-toggleable__content\"><pre>OtherProductsCombiner(target_col=&#x27;Product Name&#x27;,\n",
       "                      top_products=[&#x27;Petrel&#x27;,\n",
       "                                    &#x27;RE (Petrel RE, DELFI RE, ECLIPSE, &#x27;\n",
       "                                    &#x27;INTERSECT, ODRS, FluidModeler)&#x27;,\n",
       "                                    &#x27;Delfi Portal&#x27;, &#x27;Techlog&#x27;, &#x27;RTDS&#x27;,\n",
       "                                    &#x27;ProdOps, Avocet, PDF&#x27;, &#x27;OFM&#x27;,\n",
       "                                    &#x27;PIPESIM, IAM&#x27;, &#x27;Deployment&#x27;, &#x27;OLGA&#x27;,\n",
       "                                    &#x27;DrillPlan&#x27;, &#x27;Studio&#x27;, &#x27;Edge&#x27;, &#x27;RigHour&#x27;,\n",
       "                                    &#x27;Storage, File Management, Secure Data &#x27;\n",
       "                                    &#x27;Exchange&#x27;,\n",
       "                                    &#x27;MERAK&#x27;, &#x27;Omega, VISTA, OMNI3D&#x27;, &#x27;Symmetry&#x27;,\n",
       "                                    &#x27;ProSource, InnerLogix&#x27;, &#x27;PetroMod&#x27;,\n",
       "                                    &#x27;DrillOps&#x27;, &#x27;GeoX&#x27;, &#x27;InterACT Inside&#x27;,\n",
       "                                    &#x27;3rd Party&#x27;, &#x27;Data Science&#x27;])</pre></div></div></div><div class=\"sk-item\"><div class=\"sk-estimator sk-toggleable\"><input class=\"sk-toggleable__control sk-hidden--visually\" id=\"sk-estimator-id-4\" type=\"checkbox\" ><label for=\"sk-estimator-id-4\" class=\"sk-toggleable__label sk-toggleable__label-arrow\">SampleCapper</label><div class=\"sk-toggleable__content\"><pre>SampleCapper(max_samples=4000, target_col=&#x27;Product Name&#x27;)</pre></div></div></div><div class=\"sk-item\"><div class=\"sk-estimator sk-toggleable\"><input class=\"sk-toggleable__control sk-hidden--visually\" id=\"sk-estimator-id-5\" type=\"checkbox\" ><label for=\"sk-estimator-id-5\" class=\"sk-toggleable__label sk-toggleable__label-arrow\">TextLower</label><div class=\"sk-toggleable__content\"><pre>TextLower(text_col=&#x27;Title_Translated&#x27;)</pre></div></div></div></div></div></div></div>"
      ],
      "text/plain": [
       "Pipeline(steps=[('title_length_filter',\n",
       "                 TitleLengthFilter(max_words=15, min_words=4)),\n",
       "                ('other_products_combiner',\n",
       "                 OtherProductsCombiner(target_col='Product Name',\n",
       "                                       top_products=['Petrel',\n",
       "                                                     'RE (Petrel RE, DELFI RE, '\n",
       "                                                     'ECLIPSE, INTERSECT, '\n",
       "                                                     'ODRS, FluidModeler)',\n",
       "                                                     'Delfi Portal', 'Techlog',\n",
       "                                                     'RTDS',\n",
       "                                                     'ProdOps, Avocet, PDF',\n",
       "                                                     'OFM', 'PIPESIM, IAM',\n",
       "                                                     'Deployment', 'OLGA',\n",
       "                                                     'DrillPlan', 'Studio',\n",
       "                                                     'Edge', 'RigHour',\n",
       "                                                     'Storage, File '\n",
       "                                                     'Management, Secure Data '\n",
       "                                                     'Exchange',\n",
       "                                                     'MERAK',\n",
       "                                                     'Omega, VISTA, OMNI3D',\n",
       "                                                     'Symmetry',\n",
       "                                                     'ProSource, InnerLogix',\n",
       "                                                     'PetroMod', 'DrillOps',\n",
       "                                                     'GeoX', 'InterACT Inside',\n",
       "                                                     '3rd Party',\n",
       "                                                     'Data Science'])),\n",
       "                ('sample_capper',\n",
       "                 SampleCapper(max_samples=4000, target_col='Product Name')),\n",
       "                ('text_lower', TextLower(text_col='Title_Translated'))])"
      ]
     },
     "metadata": {},
     "output_type": "display_data"
    },
    {
     "data": {
      "text/html": [
       "<style>#sk-container-id-2 {color: black;}#sk-container-id-2 pre{padding: 0;}#sk-container-id-2 div.sk-toggleable {background-color: white;}#sk-container-id-2 label.sk-toggleable__label {cursor: pointer;display: block;width: 100%;margin-bottom: 0;padding: 0.3em;box-sizing: border-box;text-align: center;}#sk-container-id-2 label.sk-toggleable__label-arrow:before {content: \"▸\";float: left;margin-right: 0.25em;color: #696969;}#sk-container-id-2 label.sk-toggleable__label-arrow:hover:before {color: black;}#sk-container-id-2 div.sk-estimator:hover label.sk-toggleable__label-arrow:before {color: black;}#sk-container-id-2 div.sk-toggleable__content {max-height: 0;max-width: 0;overflow: hidden;text-align: left;background-color: #f0f8ff;}#sk-container-id-2 div.sk-toggleable__content pre {margin: 0.2em;color: black;border-radius: 0.25em;background-color: #f0f8ff;}#sk-container-id-2 input.sk-toggleable__control:checked~div.sk-toggleable__content {max-height: 200px;max-width: 100%;overflow: auto;}#sk-container-id-2 input.sk-toggleable__control:checked~label.sk-toggleable__label-arrow:before {content: \"▾\";}#sk-container-id-2 div.sk-estimator input.sk-toggleable__control:checked~label.sk-toggleable__label {background-color: #d4ebff;}#sk-container-id-2 div.sk-label input.sk-toggleable__control:checked~label.sk-toggleable__label {background-color: #d4ebff;}#sk-container-id-2 input.sk-hidden--visually {border: 0;clip: rect(1px 1px 1px 1px);clip: rect(1px, 1px, 1px, 1px);height: 1px;margin: -1px;overflow: hidden;padding: 0;position: absolute;width: 1px;}#sk-container-id-2 div.sk-estimator {font-family: monospace;background-color: #f0f8ff;border: 1px dotted black;border-radius: 0.25em;box-sizing: border-box;margin-bottom: 0.5em;}#sk-container-id-2 div.sk-estimator:hover {background-color: #d4ebff;}#sk-container-id-2 div.sk-parallel-item::after {content: \"\";width: 100%;border-bottom: 1px solid gray;flex-grow: 1;}#sk-container-id-2 div.sk-label:hover label.sk-toggleable__label {background-color: #d4ebff;}#sk-container-id-2 div.sk-serial::before {content: \"\";position: absolute;border-left: 1px solid gray;box-sizing: border-box;top: 0;bottom: 0;left: 50%;z-index: 0;}#sk-container-id-2 div.sk-serial {display: flex;flex-direction: column;align-items: center;background-color: white;padding-right: 0.2em;padding-left: 0.2em;position: relative;}#sk-container-id-2 div.sk-item {position: relative;z-index: 1;}#sk-container-id-2 div.sk-parallel {display: flex;align-items: stretch;justify-content: center;background-color: white;position: relative;}#sk-container-id-2 div.sk-item::before, #sk-container-id-2 div.sk-parallel-item::before {content: \"\";position: absolute;border-left: 1px solid gray;box-sizing: border-box;top: 0;bottom: 0;left: 50%;z-index: -1;}#sk-container-id-2 div.sk-parallel-item {display: flex;flex-direction: column;z-index: 1;position: relative;background-color: white;}#sk-container-id-2 div.sk-parallel-item:first-child::after {align-self: flex-end;width: 50%;}#sk-container-id-2 div.sk-parallel-item:last-child::after {align-self: flex-start;width: 50%;}#sk-container-id-2 div.sk-parallel-item:only-child::after {width: 0;}#sk-container-id-2 div.sk-dashed-wrapped {border: 1px dashed gray;margin: 0 0.4em 0.5em 0.4em;box-sizing: border-box;padding-bottom: 0.4em;background-color: white;}#sk-container-id-2 div.sk-label label {font-family: monospace;font-weight: bold;display: inline-block;line-height: 1.2em;}#sk-container-id-2 div.sk-label-container {text-align: center;}#sk-container-id-2 div.sk-container {/* jupyter's `normalize.less` sets `[hidden] { display: none; }` but bootstrap.min.css set `[hidden] { display: none !important; }` so we also need the `!important` here to be able to override the default hidden behavior on the sphinx rendered scikit-learn.org. See: https://github.com/scikit-learn/scikit-learn/issues/21755 */display: inline-block !important;position: relative;}#sk-container-id-2 div.sk-text-repr-fallback {display: none;}</style><div id=\"sk-container-id-2\" class=\"sk-top-container\"><div class=\"sk-text-repr-fallback\"><pre>Pipeline(steps=[(&#x27;title_length_filter&#x27;,\n",
       "                 TitleLengthFilter(max_words=15, min_words=4)),\n",
       "                (&#x27;other_products_combiner&#x27;,\n",
       "                 OtherProductsCombiner(target_col=&#x27;Product Name&#x27;,\n",
       "                                       top_products=[&#x27;Petrel&#x27;,\n",
       "                                                     &#x27;RE (Petrel RE, DELFI RE, &#x27;\n",
       "                                                     &#x27;ECLIPSE, INTERSECT, &#x27;\n",
       "                                                     &#x27;ODRS, FluidModeler)&#x27;,\n",
       "                                                     &#x27;Delfi Portal&#x27;, &#x27;Techlog&#x27;,\n",
       "                                                     &#x27;RTDS&#x27;,\n",
       "                                                     &#x27;ProdOps, Avocet, PDF&#x27;,\n",
       "                                                     &#x27;OFM&#x27;, &#x27;PIPESIM, IAM&#x27;,\n",
       "                                                     &#x27;Deployment&#x27;, &#x27;OLGA&#x27;,\n",
       "                                                     &#x27;DrillPlan&#x27;, &#x27;Studio&#x27;,\n",
       "                                                     &#x27;Edge&#x27;, &#x27;RigHour&#x27;,\n",
       "                                                     &#x27;Storage, File &#x27;\n",
       "                                                     &#x27;Management, Secure Data &#x27;\n",
       "                                                     &#x27;Exchange&#x27;,\n",
       "                                                     &#x27;MERAK&#x27;,\n",
       "                                                     &#x27;Omega, VISTA, OMNI3D&#x27;,\n",
       "                                                     &#x27;Symmetry&#x27;,\n",
       "                                                     &#x27;ProSource, InnerLogix&#x27;,\n",
       "                                                     &#x27;PetroMod&#x27;, &#x27;DrillOps&#x27;,\n",
       "                                                     &#x27;GeoX&#x27;, &#x27;InterACT Inside&#x27;,\n",
       "                                                     &#x27;3rd Party&#x27;,\n",
       "                                                     &#x27;Data Science&#x27;])),\n",
       "                (&#x27;sample_capper&#x27;, SampleCapper(target_col=&#x27;Product Name&#x27;)),\n",
       "                (&#x27;text_lower&#x27;, TextLower(text_col=&#x27;Title_Translated&#x27;))])</pre><b>In a Jupyter environment, please rerun this cell to show the HTML representation or trust the notebook. <br />On GitHub, the HTML representation is unable to render, please try loading this page with nbviewer.org.</b></div><div class=\"sk-container\" hidden><div class=\"sk-item sk-dashed-wrapped\"><div class=\"sk-label-container\"><div class=\"sk-label sk-toggleable\"><input class=\"sk-toggleable__control sk-hidden--visually\" id=\"sk-estimator-id-6\" type=\"checkbox\" ><label for=\"sk-estimator-id-6\" class=\"sk-toggleable__label sk-toggleable__label-arrow\">Pipeline</label><div class=\"sk-toggleable__content\"><pre>Pipeline(steps=[(&#x27;title_length_filter&#x27;,\n",
       "                 TitleLengthFilter(max_words=15, min_words=4)),\n",
       "                (&#x27;other_products_combiner&#x27;,\n",
       "                 OtherProductsCombiner(target_col=&#x27;Product Name&#x27;,\n",
       "                                       top_products=[&#x27;Petrel&#x27;,\n",
       "                                                     &#x27;RE (Petrel RE, DELFI RE, &#x27;\n",
       "                                                     &#x27;ECLIPSE, INTERSECT, &#x27;\n",
       "                                                     &#x27;ODRS, FluidModeler)&#x27;,\n",
       "                                                     &#x27;Delfi Portal&#x27;, &#x27;Techlog&#x27;,\n",
       "                                                     &#x27;RTDS&#x27;,\n",
       "                                                     &#x27;ProdOps, Avocet, PDF&#x27;,\n",
       "                                                     &#x27;OFM&#x27;, &#x27;PIPESIM, IAM&#x27;,\n",
       "                                                     &#x27;Deployment&#x27;, &#x27;OLGA&#x27;,\n",
       "                                                     &#x27;DrillPlan&#x27;, &#x27;Studio&#x27;,\n",
       "                                                     &#x27;Edge&#x27;, &#x27;RigHour&#x27;,\n",
       "                                                     &#x27;Storage, File &#x27;\n",
       "                                                     &#x27;Management, Secure Data &#x27;\n",
       "                                                     &#x27;Exchange&#x27;,\n",
       "                                                     &#x27;MERAK&#x27;,\n",
       "                                                     &#x27;Omega, VISTA, OMNI3D&#x27;,\n",
       "                                                     &#x27;Symmetry&#x27;,\n",
       "                                                     &#x27;ProSource, InnerLogix&#x27;,\n",
       "                                                     &#x27;PetroMod&#x27;, &#x27;DrillOps&#x27;,\n",
       "                                                     &#x27;GeoX&#x27;, &#x27;InterACT Inside&#x27;,\n",
       "                                                     &#x27;3rd Party&#x27;,\n",
       "                                                     &#x27;Data Science&#x27;])),\n",
       "                (&#x27;sample_capper&#x27;, SampleCapper(target_col=&#x27;Product Name&#x27;)),\n",
       "                (&#x27;text_lower&#x27;, TextLower(text_col=&#x27;Title_Translated&#x27;))])</pre></div></div></div><div class=\"sk-serial\"><div class=\"sk-item\"><div class=\"sk-estimator sk-toggleable\"><input class=\"sk-toggleable__control sk-hidden--visually\" id=\"sk-estimator-id-7\" type=\"checkbox\" ><label for=\"sk-estimator-id-7\" class=\"sk-toggleable__label sk-toggleable__label-arrow\">TitleLengthFilter</label><div class=\"sk-toggleable__content\"><pre>TitleLengthFilter(max_words=15, min_words=4)</pre></div></div></div><div class=\"sk-item\"><div class=\"sk-estimator sk-toggleable\"><input class=\"sk-toggleable__control sk-hidden--visually\" id=\"sk-estimator-id-8\" type=\"checkbox\" ><label for=\"sk-estimator-id-8\" class=\"sk-toggleable__label sk-toggleable__label-arrow\">OtherProductsCombiner</label><div class=\"sk-toggleable__content\"><pre>OtherProductsCombiner(target_col=&#x27;Product Name&#x27;,\n",
       "                      top_products=[&#x27;Petrel&#x27;,\n",
       "                                    &#x27;RE (Petrel RE, DELFI RE, ECLIPSE, &#x27;\n",
       "                                    &#x27;INTERSECT, ODRS, FluidModeler)&#x27;,\n",
       "                                    &#x27;Delfi Portal&#x27;, &#x27;Techlog&#x27;, &#x27;RTDS&#x27;,\n",
       "                                    &#x27;ProdOps, Avocet, PDF&#x27;, &#x27;OFM&#x27;,\n",
       "                                    &#x27;PIPESIM, IAM&#x27;, &#x27;Deployment&#x27;, &#x27;OLGA&#x27;,\n",
       "                                    &#x27;DrillPlan&#x27;, &#x27;Studio&#x27;, &#x27;Edge&#x27;, &#x27;RigHour&#x27;,\n",
       "                                    &#x27;Storage, File Management, Secure Data &#x27;\n",
       "                                    &#x27;Exchange&#x27;,\n",
       "                                    &#x27;MERAK&#x27;, &#x27;Omega, VISTA, OMNI3D&#x27;, &#x27;Symmetry&#x27;,\n",
       "                                    &#x27;ProSource, InnerLogix&#x27;, &#x27;PetroMod&#x27;,\n",
       "                                    &#x27;DrillOps&#x27;, &#x27;GeoX&#x27;, &#x27;InterACT Inside&#x27;,\n",
       "                                    &#x27;3rd Party&#x27;, &#x27;Data Science&#x27;])</pre></div></div></div><div class=\"sk-item\"><div class=\"sk-estimator sk-toggleable\"><input class=\"sk-toggleable__control sk-hidden--visually\" id=\"sk-estimator-id-9\" type=\"checkbox\" ><label for=\"sk-estimator-id-9\" class=\"sk-toggleable__label sk-toggleable__label-arrow\">SampleCapper</label><div class=\"sk-toggleable__content\"><pre>SampleCapper(target_col=&#x27;Product Name&#x27;)</pre></div></div></div><div class=\"sk-item\"><div class=\"sk-estimator sk-toggleable\"><input class=\"sk-toggleable__control sk-hidden--visually\" id=\"sk-estimator-id-10\" type=\"checkbox\" ><label for=\"sk-estimator-id-10\" class=\"sk-toggleable__label sk-toggleable__label-arrow\">TextLower</label><div class=\"sk-toggleable__content\"><pre>TextLower(text_col=&#x27;Title_Translated&#x27;)</pre></div></div></div></div></div></div></div>"
      ],
      "text/plain": [
       "Pipeline(steps=[('title_length_filter',\n",
       "                 TitleLengthFilter(max_words=15, min_words=4)),\n",
       "                ('other_products_combiner',\n",
       "                 OtherProductsCombiner(target_col='Product Name',\n",
       "                                       top_products=['Petrel',\n",
       "                                                     'RE (Petrel RE, DELFI RE, '\n",
       "                                                     'ECLIPSE, INTERSECT, '\n",
       "                                                     'ODRS, FluidModeler)',\n",
       "                                                     'Delfi Portal', 'Techlog',\n",
       "                                                     'RTDS',\n",
       "                                                     'ProdOps, Avocet, PDF',\n",
       "                                                     'OFM', 'PIPESIM, IAM',\n",
       "                                                     'Deployment', 'OLGA',\n",
       "                                                     'DrillPlan', 'Studio',\n",
       "                                                     'Edge', 'RigHour',\n",
       "                                                     'Storage, File '\n",
       "                                                     'Management, Secure Data '\n",
       "                                                     'Exchange',\n",
       "                                                     'MERAK',\n",
       "                                                     'Omega, VISTA, OMNI3D',\n",
       "                                                     'Symmetry',\n",
       "                                                     'ProSource, InnerLogix',\n",
       "                                                     'PetroMod', 'DrillOps',\n",
       "                                                     'GeoX', 'InterACT Inside',\n",
       "                                                     '3rd Party',\n",
       "                                                     'Data Science'])),\n",
       "                ('sample_capper', SampleCapper(target_col='Product Name')),\n",
       "                ('text_lower', TextLower(text_col='Title_Translated'))])"
      ]
     },
     "metadata": {},
     "output_type": "display_data"
    }
   ],
   "source": [
    "# # create a scikit-learn pipeline to remove the title with less than 3 words or more than 20 words\n",
    "pipleline_data_prep_train = Pipeline([\n",
    "    ('title_length_filter', TitleLengthFilter(filter_name=FILER_COL, min_words=TITLE_WORDS_MIN, max_words=TITLE_WORDS_MAX)),\n",
    "    ('other_products_combiner', OtherProductsCombiner(top_products=top_n_products, target_col=TARGET_COL, product_name=PRODUCT_OTHERS)),\n",
    "    ('sample_capper', SampleCapper(max_samples=PRODUCT_SIZE_MAX_TRAIN, target_col=TARGET_COL)),\n",
    "    ('text_lower', TextLower(text_col=TEXT_COL))\n",
    "])\n",
    "\n",
    "pipleline_data_prep_test = Pipeline([\n",
    "    ('title_length_filter', TitleLengthFilter(filter_name=FILER_COL, min_words=TITLE_WORDS_MIN, max_words=TITLE_WORDS_MAX)),\n",
    "    ('other_products_combiner', OtherProductsCombiner(top_products=top_n_products, target_col=TARGET_COL, product_name=PRODUCT_OTHERS)),\n",
    "    ('sample_capper', SampleCapper(max_samples=PRODUCT_SIZE_MAX_TEST, target_col=TARGET_COL)),\n",
    "    ('text_lower', TextLower(text_col=TEXT_COL))\n",
    "])\n",
    "\n",
    "display(pipeline_data_prep_train)\n",
    "display(pipeline_data_prep_test)"
   ]
  },
  {
   "cell_type": "markdown",
   "id": "fad29b0c",
   "metadata": {},
   "source": [
    "Data Processing"
   ]
  },
  {
   "cell_type": "code",
   "execution_count": 4,
   "id": "6be88b2c",
   "metadata": {},
   "outputs": [
    {
     "data": {
      "image/png": "[encoded data removed]",
      "text/plain": [
       "<Figure size 1300x400 with 1 Axes>"
      ]
     },
     "metadata": {},
     "output_type": "display_data"
    },
    {
     "data": {
      "image/png": "[encoded data removed]",
      "text/plain": [
       "<Figure size 1300x400 with 1 Axes>"
      ]
     },
     "metadata": {},
     "output_type": "display_data"
    }
   ],
   "source": [
    "train_data = pipeline_data_prep_train.fit_transform(df_train)\n",
    "test_data = pipeline_data_prep_test.fit_transform(df_test)\n",
    "hist_by_labels(train_data, TARGET_COL, log=False, horizontal=True)\n",
    "hist_by_labels(test_data, TARGET_COL, log=True, horizontal=True)"
   ]
  },
  {
   "cell_type": "markdown",
   "id": "840ee214-7530-4cbb-a8ef-c2f414d67a5c",
   "metadata": {},
   "source": [
    "# Model Baseline - Cross Validation"
   ]
  },
  {
   "cell_type": "code",
   "execution_count": 5,
   "id": "3311dbb7-0451-4146-a451-2c7bd139af67",
   "metadata": {},
   "outputs": [],
   "source": [
    "# SciKit-Learn\n",
    "from sklearn.metrics import accuracy_score\n",
    "from sklearn.metrics import classification_report\n",
    "from sklearn.feature_extraction.text import CountVectorizer\n",
    "from sklearn.feature_extraction.text import TfidfVectorizer\n",
    "from sklearn.model_selection import cross_validate, cross_val_score\n",
    "from sklearn.svm import SVC\n",
    "from sklearn.naive_bayes import MultinomialNB\n",
    "from sklearn.linear_model import LogisticRegression, SGDClassifier\n",
    "from sklearn.ensemble import GradientBoostingClassifier, RandomForestClassifier\n",
    "\n",
    "# Optuna\n",
    "import optuna\n",
    "import optuna.visualization as vis\n",
    "\n",
    "# Others\n",
    "import pickle"
   ]
  },
  {
   "cell_type": "code",
   "execution_count": 6,
   "id": "18fdb179-508b-45f5-9951-94d9ee1b4fd9",
   "metadata": {},
   "outputs": [
    {
     "data": {
      "image/png": "[encoded data removed]",
      "text/plain": [
       "<Figure size 1000x500 with 1 Axes>"
      ]
     },
     "metadata": {},
     "output_type": "display_data"
    }
   ],
   "source": [
    "# create vectorizer for text\n",
    "vectorizer_countvec = CountVectorizer(max_features=MAX_FEATURES, analyzer='word', ngram_range=(1, 2))\n",
    "vectorizer_tfidf = TfidfVectorizer(max_features=MAX_FEATURES, analyzer='word', ngram_range=(1, 2))\n",
    "\n",
    "X = df_train[TEXT_COL]\n",
    "vectorizer_countvec.fit(X)\n",
    "vectorizer_tfidf.fit(X)\n",
    "\n",
    "vectorizer = vectorizer_tfidf\n",
    "\n",
    "X_train = train_data[TEXT_COL]\n",
    "y_train = train_data[TARGET_COL]\n",
    "X_train_encoded = vectorizer.transform(X_train)\n",
    "\n",
    "X_test = test_data[TEXT_COL]\n",
    "X_test_encoded = vectorizer.transform(X_test)\n",
    "y_test = test_data[TARGET_COL]\n",
    "\n",
    "# calculate the class weight of X_train\n",
    "class_weight = dict()\n",
    "for label in y_train.unique():\n",
    "    class_weight[label] = len(y_train)/len(y_train[y_train==label])\n",
    "\n",
    "class_weight_max = np.sqrt(min(class_weight.values()))*CLASS_WEIGHT_FACTOR\n",
    "# apply sqrt() to the class weight\n",
    "for label in class_weight.keys():\n",
    "    class_weight[label] = min(class_weight_max, np.sqrt(class_weight[label]))\n",
    "plot_class_weights(class_weight)"
   ]
  },
  {
   "cell_type": "code",
   "execution_count": null,
   "id": "a4f58590",
   "metadata": {},
   "outputs": [],
   "source": [
    "# create a dictionary of models\n",
    "models = {\n",
    "    'SGDClassifier': SGDClassifier(max_iter=5000, class_weight=class_weight ),\n",
    "    'LogisticRegression': LogisticRegression(max_iter=5000, class_weight=class_weight),\n",
    "    'SVC linear': SVC(kernel='linear', class_weight=class_weight),\n",
    "    # 'RandomForestClassifier': RandomForestClassifier(),\n",
    "    # 'GradientBoostingClassifier': GradientBoostingClassifier(),\n",
    "    # 'MultinomialNB': MultinomialNB(class_weight=class_weight)\n",
    "    # 'SVC rbf': SVC(kernel='rbf'),\n",
    "}\n",
    "\n",
    "print(f'Configuration: Classify top \\033[94m{TOP_N_PRODUCTS}\\033[0m products; Text column: \\033[94m{TEXT_COL}\\033[0m, Title words length: (\\033[94m{TITLE_WORDS_MIN}\\033[0m, \\033[94m{TITLE_WORDS_MAX}\\033[0m); Records/product caped at \\033[94m{PRODUCT_SIZE_MAX_TRAIN}\\033[0m')\n",
    "print('Baseline Score(s) of each model are ....')\n",
    "\n",
    "for model in models:\n",
    "    cv_result = cross_val_score(\n",
    "        models[model], \n",
    "        X_train_encoded,\n",
    "        y_train, #the target\n",
    "        cv=5, \n",
    "        scoring='accuracy', # lease revise to the appropriate score\n",
    "        n_jobs=-1\n",
    "    )\n",
    "    print(f'Average score: \\033[94m{\"{:.4f}\".format(np.mean(cv_result))}\\033[0m by \\033[94m{model}\\033[0m.')"
   ]
  },
  {
   "cell_type": "code",
   "execution_count": null,
   "id": "dc79556f",
   "metadata": {},
   "outputs": [],
   "source": [
    "# Configuration: Classify top 25 products; Text column: Title_Translated, Title words length: (4, 15); Records/product caped at 4000\n",
    "# Baseline Score(s) of each model are ....\n",
    "# Average score: 0.8279 by SGDClassifier.\n",
    "# Average score: 0.8217 by LogisticRegression.\n",
    "# Average score: 0.8070 by SVC linear.\n",
    "\n",
    "# Configuration: TITLE_WORDS_MIN=4, TITLE_WORDS_MAX=15, TEXT_COL=Title_Translated, PRODUCT_SIZE_MAX_TRAIN=2000, TOP_N_PRODUCTS=25.\n",
    "# Baseline Score(s) of each model are ....\n",
    "# Average score: 0.8245 by SGDClassifier.\n",
    "# Average score: 0.8193 by LogisticRegression.\n",
    "# Average score: 0.8038 by SVC linear.\n",
    "\n",
    "# Baseline Score(s) of each model are .... TITLE_WORDS_MIN=4, TITLE_WORDS_MAX = 15 Title_Translated, with class_weight, \n",
    "# Average score: 0.8242 by SGDClassifier.\n",
    "# Average score: 0.8193 by LogisticRegression.\n",
    "# Average score: 0.8038 by SVC linear.\n",
    "\n",
    "# Baseline Score(s) of each model are .... TITLE_WORDS_MIN=4, TITLE_WORDS_MAX = 15 Title_Translated\n",
    "# Average score: 0.8206 by SGDClassifier.\n",
    "# Average score: 0.8121 by SVC linear.\n",
    "# Average score: 0.8018 by LogisticRegression.\n",
    "\n",
    "# Baseline Score(s) of each model are .... TITLE_WORDS_MIN=4, TITLE_WORDS_MAX = 15 Title_Translated\n",
    "# Average score: 0.8196 by SGDClassifier.\n",
    "# Average score: 0.8108 by SVC linear.\n",
    "# Average score: 0.7994 by LogisticRegression.\n",
    "\n",
    "# Baseline Score(s) of each model are .... TITLE_WORDS_MIN=3, TITLE_WORDS_MAX = 15 Title_Translated\n",
    "# Average score: 0.8091 by SGDClassifier.\n",
    "# Average score: 0.8030 by SVC linear.\n",
    "# Average score: 0.7921 by LogisticRegression.\n",
    "\n",
    "# Baseline Score(s) of each model are .... TITLE_WORDS_MIN=4, TITLE_WORDS_MAX = 15 Title_Enhanced\n",
    "# Baseline Score(s) of each model are .... 3000 samples per product max\n",
    "# Average score: 0.8144 by SGDClassifier.\n",
    "# Average score: 0.8134 by SVC linear.\n",
    "# Average score: 0.8013 by LogisticRegression.\n",
    "\n",
    "# Average score: 0.8150 by SGDClassifier.  2000 samples per product max\n",
    "# Average score: 0.8098 by SVC linear.\n",
    "# Average score: 0.7996 by LogisticRegression.\n",
    "\n",
    "# Baseline Score(s) of each model are .... TITLE_WORDS_MIN=3, TITLE_WORDS_MAX = 15 Title_Enhanced\n",
    "# Average score: 0.8050 by SGDClassifier.\n",
    "# Average score: 0.8021 by SVC linear.\n",
    "# Average score: 0.7909 by LogisticRegression."
   ]
  },
  {
   "cell_type": "markdown",
   "id": "7c12256a",
   "metadata": {},
   "source": [
    "# Hpyerparameter Tuning"
   ]
  },
  {
   "cell_type": "markdown",
   "id": "f916dcf5",
   "metadata": {},
   "source": [
    "## SGC Classifier (5min/100trials)"
   ]
  },
  {
   "cell_type": "code",
   "execution_count": null,
   "id": "ae555272",
   "metadata": {},
   "outputs": [],
   "source": [
    "# Clean up the study if it exists\n",
    "study_name = 'sgd_classifier'\n",
    "storage_name = 'sqlite:///optuna_study.db'\n",
    "\n",
    "try:\n",
    "    optuna.delete_study(study_name=study_name, storage=storage_name)\n",
    "except:\n",
    "    pass"
   ]
  },
  {
   "cell_type": "code",
   "execution_count": null,
   "id": "3289ef5a",
   "metadata": {},
   "outputs": [],
   "source": [
    "# Define an objective function to optimize\n",
    "def objective(trial):\n",
    "\n",
    "    # Define hyperparameter search space\n",
    "\n",
    "    pamams = {\n",
    "        'alpha': trial.suggest_float('alpha', 1e-7, 1e-3, log=True),\n",
    "        'eta0': trial.suggest_float('eta0', 1e-3, 1e-1, log=True),\n",
    "        'loss': trial.suggest_categorical('loss', ['log_loss', 'modified_huber']), #'hinge and square_hinge doesn't work with model.predict_proba() and is very slow\n",
    "        'penalty': trial.suggest_categorical('penalty', ['l1', 'l2']),\n",
    "        'learning_rate': trial.suggest_categorical('learning_rate', ['constant', 'optimal', 'adaptive']), #\n",
    "        'max_iter': 10000,\n",
    "        'random_state': 42\n",
    "        }\n",
    "    \n",
    "    # Create and train the SGD Classifier with suggested hyperparameters\n",
    "    sgd_classifier = SGDClassifier(class_weight=class_weight, **pamams)\n",
    "\n",
    "    # Evaluate the model on the validation set\n",
    "    scores = cross_val_score(sgd_classifier, X_train_encoded, y_train, cv=5, scoring='accuracy')\n",
    "    \n",
    "    return np.mean(scores)\n",
    "\n",
    "# Create an Optuna study and optimize the objective function\n",
    "study = optuna.create_study(direction='maximize', study_name=study_name, storage=storage_name, load_if_exists=True)\n",
    "\n",
    "study.optimize(\n",
    "    objective,\n",
    "    n_trials=100, \n",
    "    n_jobs=-1, \n",
    "    show_progress_bar=True\n",
    "    )  # You can adjust the number of trials\n",
    "\n",
    "# Print the best hyperparameters and corresponding accuracy\n",
    "best_params = study.best_params\n",
    "best_sore = study.best_value\n",
    "print(\"Best Hyperparameters:\", best_params)\n",
    "print(\"Best Score:\", best_sore)"
   ]
  },
  {
   "cell_type": "code",
   "execution_count": null,
   "id": "143656da",
   "metadata": {},
   "outputs": [],
   "source": [
    "vis.plot_optimization_history(study)"
   ]
  },
  {
   "cell_type": "code",
   "execution_count": null,
   "id": "7f77d862",
   "metadata": {},
   "outputs": [],
   "source": [
    "vis.plot_slice(study)"
   ]
  },
  {
   "cell_type": "code",
   "execution_count": null,
   "id": "a523ea1f",
   "metadata": {},
   "outputs": [],
   "source": [
    "# Create and train the best Logistic Regression model\n",
    "best_model_sgc = SGDClassifier(class_weight=class_weight, **best_params)\n",
    "best_model_sgc.fit(X_train_encoded, y_train)\n",
    "\n",
    "# Predict categories for the test data\n",
    "y_pred_sgc = best_model_sgc.predict(X_test_encoded)\n",
    "\n",
    "accuracy = accuracy_score(y_test, y_pred_sgc)\n",
    "print(f'Accuracy: \\033[94m{accuracy:4f}\\033[0m on test data size \\033[94m{len(y_test)}\\033[0m')\n",
    "\n",
    "# Evaluate the classifier's performance\n",
    "print(classification_report(y_test, y_pred_sgc, digits=3))\n",
    "plot_confusion_matrix(y_test, y_pred_sgc, title='Confusion matrix for Rests')\n",
    "df_pred_top5_sgc = top5_accuracy_report(best_model_sgc, vectorizer, X_test, y_test, pre_processed=True)"
   ]
  },
  {
   "cell_type": "code",
   "execution_count": null,
   "id": "6e8c8b7a",
   "metadata": {},
   "outputs": [],
   "source": [
    "# Configuration: Classify top 25 products; Text column: Title_Translated, Title words length: (4, 15); Records/product caped at 4000\n",
    "# Accuracy of top 1 prediction is 0.822.\n",
    "# Accuracy of top 3 prediction is 0.946.\n",
    "# Accuracy of top 5 prediction is 0.968.\n",
    "# export the model\n",
    "pickle.dump(best_model_sgc, open(f'{MODEL_FOLDER_PATH}/model_sgc_classifier.pkl', 'wb'))\n",
    "pickle.dump(vectorizer_tfidf, open(f'{MODEL_FOLDER_PATH}/vectorizer_sgc_classifier.pkl', 'wb'))"
   ]
  },
  {
   "cell_type": "code",
   "execution_count": null,
   "metadata": {},
   "outputs": [],
   "source": [
    "# CONGRATULATIONS, ready to go 🚀\n",
    "# ref: https://huggingface.co/transformers/v3.3.1/pretrained_models.html\n",
    "# BERT_MODEL = 'bert-base-uncased' # 12-layer, 768-hidden, 12-heads, 110M parameters. Trained on lower-cased English text.\n",
    "BERT_MODEL = 'distilbert-base-uncased' # 6-layer, 768-hidden, 12-heads, 66M parameters. Trained on lower-cased English text.\n",
    "MAX_EPOCH = 50\n",
    "EARLY_STOP_PATIENCE = 5\n",
    "BATCH_SIZE = 128\n",
    "FRACTION = 1\n",
    "# CONGRATULATIONS, ready to go 🚀\n",
    "\n",
    "tokenizer = AutoTokenizer.from_pretrained(BERT_MODEL)\n",
    "def tokenize(batch):\n",
    "    return tokenizer(batch['text'], \n",
    "                    max_length=TITLE_WORDS_MAX,\n",
    "                    padding='max_length', \n",
    "                    truncation=True)\n",
    "\n",
    "# Split train data into train and eval\n",
    "train_data = df_train_processed[['text', 'label']]\n",
    "train_data, eval_data = train_test_split(train_data, test_size=0.15, stratify=train_data['label'], random_state=42)\n",
    "\n",
    "# Sample the train and eval data to speed up the training\n",
    "train_data = train_data.sample(frac=FRACTION, random_state=42).reset_index(drop=True)\n",
    "eval_data = eval_data.sample(frac=FRACTION, random_state=42).reset_index(drop=True)\n",
    "\n",
    "# Get the number of classes\n",
    "n_classes = len(train_data.label.unique())\n",
    "\n",
    "# Class weighting\n",
    "from sklearn.utils.class_weight import compute_class_weight\n",
    "class_weights = compute_class_weight('balanced', classes=train_data.label.unique(), y=train_data.label)\n",
    "class_weight_max = np.sqrt(class_weights.min())*3\n",
    "class_weights = {i: min(np.sqrt(class_weights[i]), class_weight_max) for i in range(len(class_weights))}\n",
    "plot_class_weights(class_weights)\n",
    "\n",
    "hg_train_data = Dataset.from_pandas(train_data)\n",
    "hg_eval_data = Dataset.from_pandas(eval_data)\n",
    "\n",
    "# Tokenize the train and eval data\n",
    "hg_train_data_tokenized = hg_train_data.map(tokenize)\n",
    "hg_eval_data_tokenized = hg_eval_data.map(tokenize)"
   ]
  },
  {
   "cell_type": "markdown",
   "id": "b3149568",
   "metadata": {},
   "source": [
    "## Logistic Classification (10min/10trials)"
   ]
  },
  {
   "cell_type": "code",
   "execution_count": 7,
   "id": "f742739e",
   "metadata": {},
   "outputs": [],
   "source": [
    "# Clean up the study if it exists\n",
    "study_name = 'logReg'\n",
    "storage_name = 'sqlite:///optuna_study.db'\n",
    "try:\n",
    "    optuna.delete_study(study_name=study_name, storage=storage_name)\n",
    "except:\n",
    "    pass "
   ]
  },
  {
   "cell_type": "code",
   "execution_count": 12,
   "id": "f22ea765",
   "metadata": {},
   "outputs": [
    {
     "name": "stderr",
     "output_type": "stream",
     "text": [
      "[I 2023-10-31 12:13:29,033] Using an existing study with name 'logReg' instead of creating a new one.\n"
     ]
    },
    {
     "data": {
      "application/vnd.jupyter.widget-view+json": {
       "model_id": "25aa69c0e9d94181850a0ece94575377",
       "version_major": 2,
       "version_minor": 0
      },
      "text/plain": [
       "  0%|          | 0/10 [00:00<?, ?it/s]"
      ]
     },
     "metadata": {},
     "output_type": "display_data"
    },
    {
     "name": "stdout",
     "output_type": "stream",
     "text": [
      "[I 2023-10-31 12:17:29,314] Trial 15 finished with value: 0.823920929118447 and parameters: {'solver': 'lbfgs', 'C': 1.883338053705767}. Best is trial 7 with value: 0.8246348440868445.\n",
      "[I 2023-10-31 12:19:26,947] Trial 10 finished with value: 0.8251192810473448 and parameters: {'solver': 'lbfgs', 'C': 1.135916494850154}. Best is trial 10 with value: 0.8251192810473448.\n",
      "[I 2023-10-31 12:19:36,931] Trial 16 finished with value: 0.8251192745471038 and parameters: {'solver': 'lbfgs', 'C': 1.343331281240198}. Best is trial 10 with value: 0.8251192810473448.\n",
      "[I 2023-10-31 12:19:47,193] Trial 12 finished with value: 0.8249153067349972 and parameters: {'solver': 'lbfgs', 'C': 1.6608457267970917}. Best is trial 10 with value: 0.8251192810473448.\n",
      "[I 2023-10-31 12:19:48,203] Trial 13 finished with value: 0.8247878207584545 and parameters: {'solver': 'lbfgs', 'C': 1.6314497014966753}. Best is trial 10 with value: 0.8251192810473448.\n",
      "[I 2023-10-31 12:19:55,889] Trial 17 finished with value: 0.8248898095396886 and parameters: {'solver': 'lbfgs', 'C': 1.6582033161978769}. Best is trial 10 with value: 0.8251192810473448.\n",
      "[I 2023-10-31 12:19:56,960] Trial 19 finished with value: 0.8243288712429013 and parameters: {'solver': 'lbfgs', 'C': 1.7849493613274645}. Best is trial 10 with value: 0.8251192810473448.\n",
      "[I 2023-10-31 12:19:58,803] Trial 14 finished with value: 0.8243288777431423 and parameters: {'solver': 'lbfgs', 'C': 1.806665835159133}. Best is trial 10 with value: 0.8251192810473448.\n",
      "[I 2023-10-31 12:20:00,590] Trial 18 finished with value: 0.8242523861572169 and parameters: {'solver': 'lbfgs', 'C': 1.8256648431062552}. Best is trial 10 with value: 0.8251192810473448.\n",
      "[I 2023-10-31 12:20:00,908] Trial 11 finished with value: 0.8235384711888193 and parameters: {'solver': 'lbfgs', 'C': 1.966940646659476}. Best is trial 10 with value: 0.8251192810473448.\n",
      "Best Hyperparameters: {'solver': 'lbfgs', 'C': 1.135916494850154}\n",
      "Best Accuracy: 0.8251192810473448\n"
     ]
    }
   ],
   "source": [
    "# Define an objective function to optimize\n",
    "def objective(trial):\n",
    "\n",
    "    # Define hyperparameter search space\n",
    "\n",
    "    pamams = {\n",
    "        'solver': trial.suggest_categorical('solver', ['lbfgs', 'liblinear']), #sag and 'saga' are is slow to converge\n",
    "        'C': trial.suggest_float('C', 1e-2, 1e+2, log=True),\n",
    "        'penalty': 'l2',\n",
    "        'multi_class': 'ovr',\n",
    "        'max_iter': 50000,\n",
    "        'random_state': 42\n",
    "    }\n",
    "    \n",
    "    # Create and train the SGD Classifier with suggested hyperparameters\n",
    "    logReg = LogisticRegression(class_weight=class_weight, **pamams)\n",
    "\n",
    "    # Evaluate the model on the validation set\n",
    "    scores = cross_val_score(logReg, X_train_encoded, y_train, cv=5, scoring='accuracy')\n",
    "\n",
    "    return np.mean(scores)\n",
    "\n",
    "# Create an Optuna study and optimize the objective function\n",
    "study = optuna.create_study(direction='maximize', study_name=study_name, storage=storage_name, load_if_exists=True)\n",
    "\n",
    "study.optimize(\n",
    "    objective,\n",
    "    n_trials=10, \n",
    "    n_jobs=-1, \n",
    "    show_progress_bar=True,\n",
    "    )  # You can adjust the number of trials\n",
    "\n",
    "# Print the best hyperparameters and corresponding accuracy\n",
    "best_params = study.best_params\n",
    "best_accuracy = study.best_value\n",
    "print(\"Best Hyperparameters:\", best_params)\n",
    "print(\"Best Accuracy:\", best_accuracy)"
   ]
  },
  {
   "cell_type": "code",
   "execution_count": 13,
   "id": "87b371c6",
   "metadata": {},
   "outputs": [
    {
     "data": {
      "application/vnd.plotly.v1+json": {
       "config": {
        "plotlyServerURL": "https://plot.ly"
       },
       "data": [
        {
         "mode": "markers",
         "name": "Objective Value",
         "type": "scatter",
         "x": [
          0,
          1,
          2,
          3,
          4,
          5,
          6,
          7,
          8,
          9,
          10,
          11,
          12,
          13,
          14,
          15,
          16,
          17,
          18,
          19
         ],
         "y": [
          0.8101527556634164,
          0.806812691330531,
          0.8030902503210307,
          0.7092119400326766,
          0.821320250948304,
          0.8127533818316314,
          0.8103057128343034,
          0.8246348440868445,
          0.8073481096811665,
          0.784120847280413,
          0.8251192810473448,
          0.8235384711888193,
          0.8249153067349972,
          0.8247878207584545,
          0.8243288777431423,
          0.823920929118447,
          0.8251192745471038,
          0.8248898095396886,
          0.8242523861572169,
          0.8243288712429013
         ]
        },
        {
         "mode": "lines",
         "name": "Best Value",
         "type": "scatter",
         "x": [
          0,
          1,
          2,
          3,
          4,
          5,
          6,
          7,
          8,
          9,
          10,
          11,
          12,
          13,
          14,
          15,
          16,
          17,
          18,
          19
         ],
         "y": [
          0.8101527556634164,
          0.8101527556634164,
          0.8101527556634164,
          0.8101527556634164,
          0.821320250948304,
          0.821320250948304,
          0.821320250948304,
          0.8246348440868445,
          0.8246348440868445,
          0.8246348440868445,
          0.8251192810473448,
          0.8251192810473448,
          0.8251192810473448,
          0.8251192810473448,
          0.8251192810473448,
          0.8251192810473448,
          0.8251192810473448,
          0.8251192810473448,
          0.8251192810473448,
          0.8251192810473448
         ]
        },
        {
         "marker": {
          "color": "#cccccc"
         },
         "mode": "markers",
         "name": "Infeasible Trial",
         "showlegend": false,
         "type": "scatter",
         "x": [],
         "y": []
        }
       ],
       "layout": {
        "template": {
         "data": {
          "bar": [
           {
            "error_x": {
             "color": "#2a3f5f"
            },
            "error_y": {
             "color": "#2a3f5f"
            },
            "marker": {
             "line": {
              "color": "#E5ECF6",
              "width": 0.5
             },
             "pattern": {
              "fillmode": "overlay",
              "size": 10,
              "solidity": 0.2
             }
            },
            "type": "bar"
           }
          ],
          "barpolar": [
           {
            "marker": {
             "line": {
              "color": "#E5ECF6",
              "width": 0.5
             },
             "pattern": {
              "fillmode": "overlay",
              "size": 10,
              "solidity": 0.2
             }
            },
            "type": "barpolar"
           }
          ],
          "carpet": [
           {
            "aaxis": {
             "endlinecolor": "#2a3f5f",
             "gridcolor": "white",
             "linecolor": "white",
             "minorgridcolor": "white",
             "startlinecolor": "#2a3f5f"
            },
            "baxis": {
             "endlinecolor": "#2a3f5f",
             "gridcolor": "white",
             "linecolor": "white",
             "minorgridcolor": "white",
             "startlinecolor": "#2a3f5f"
            },
            "type": "carpet"
           }
          ],
          "choropleth": [
           {
            "colorbar": {
             "outlinewidth": 0,
             "ticks": ""
            },
            "type": "choropleth"
           }
          ],
          "contour": [
           {
            "colorbar": {
             "outlinewidth": 0,
             "ticks": ""
            },
            "colorscale": [
             [
              0,
              "#0d0887"
             ],
             [
              0.1111111111111111,
              "#46039f"
             ],
             [
              0.2222222222222222,
              "#7201a8"
             ],
             [
              0.3333333333333333,
              "#9c179e"
             ],
             [
              0.4444444444444444,
              "#bd3786"
             ],
             [
              0.5555555555555556,
              "#d8576b"
             ],
             [
              0.6666666666666666,
              "#ed7953"
             ],
             [
              0.7777777777777778,
              "#fb9f3a"
             ],
             [
              0.8888888888888888,
              "#fdca26"
             ],
             [
              1,
              "#f0f921"
             ]
            ],
            "type": "contour"
           }
          ],
          "contourcarpet": [
           {
            "colorbar": {
             "outlinewidth": 0,
             "ticks": ""
            },
            "type": "contourcarpet"
           }
          ],
          "heatmap": [
           {
            "colorbar": {
             "outlinewidth": 0,
             "ticks": ""
            },
            "colorscale": [
             [
              0,
              "#0d0887"
             ],
             [
              0.1111111111111111,
              "#46039f"
             ],
             [
              0.2222222222222222,
              "#7201a8"
             ],
             [
              0.3333333333333333,
              "#9c179e"
             ],
             [
              0.4444444444444444,
              "#bd3786"
             ],
             [
              0.5555555555555556,
              "#d8576b"
             ],
             [
              0.6666666666666666,
              "#ed7953"
             ],
             [
              0.7777777777777778,
              "#fb9f3a"
             ],
             [
              0.8888888888888888,
              "#fdca26"
             ],
             [
              1,
              "#f0f921"
             ]
            ],
            "type": "heatmap"
           }
          ],
          "heatmapgl": [
           {
            "colorbar": {
             "outlinewidth": 0,
             "ticks": ""
            },
            "colorscale": [
             [
              0,
              "#0d0887"
             ],
             [
              0.1111111111111111,
              "#46039f"
             ],
             [
              0.2222222222222222,
              "#7201a8"
             ],
             [
              0.3333333333333333,
              "#9c179e"
             ],
             [
              0.4444444444444444,
              "#bd3786"
             ],
             [
              0.5555555555555556,
              "#d8576b"
             ],
             [
              0.6666666666666666,
              "#ed7953"
             ],
             [
              0.7777777777777778,
              "#fb9f3a"
             ],
             [
              0.8888888888888888,
              "#fdca26"
             ],
             [
              1,
              "#f0f921"
             ]
            ],
            "type": "heatmapgl"
           }
          ],
          "histogram": [
           {
            "marker": {
             "pattern": {
              "fillmode": "overlay",
              "size": 10,
              "solidity": 0.2
             }
            },
            "type": "histogram"
           }
          ],
          "histogram2d": [
           {
            "colorbar": {
             "outlinewidth": 0,
             "ticks": ""
            },
            "colorscale": [
             [
              0,
              "#0d0887"
             ],
             [
              0.1111111111111111,
              "#46039f"
             ],
             [
              0.2222222222222222,
              "#7201a8"
             ],
             [
              0.3333333333333333,
              "#9c179e"
             ],
             [
              0.4444444444444444,
              "#bd3786"
             ],
             [
              0.5555555555555556,
              "#d8576b"
             ],
             [
              0.6666666666666666,
              "#ed7953"
             ],
             [
              0.7777777777777778,
              "#fb9f3a"
             ],
             [
              0.8888888888888888,
              "#fdca26"
             ],
             [
              1,
              "#f0f921"
             ]
            ],
            "type": "histogram2d"
           }
          ],
          "histogram2dcontour": [
           {
            "colorbar": {
             "outlinewidth": 0,
             "ticks": ""
            },
            "colorscale": [
             [
              0,
              "#0d0887"
             ],
             [
              0.1111111111111111,
              "#46039f"
             ],
             [
              0.2222222222222222,
              "#7201a8"
             ],
             [
              0.3333333333333333,
              "#9c179e"
             ],
             [
              0.4444444444444444,
              "#bd3786"
             ],
             [
              0.5555555555555556,
              "#d8576b"
             ],
             [
              0.6666666666666666,
              "#ed7953"
             ],
             [
              0.7777777777777778,
              "#fb9f3a"
             ],
             [
              0.8888888888888888,
              "#fdca26"
             ],
             [
              1,
              "#f0f921"
             ]
            ],
            "type": "histogram2dcontour"
           }
          ],
          "mesh3d": [
           {
            "colorbar": {
             "outlinewidth": 0,
             "ticks": ""
            },
            "type": "mesh3d"
           }
          ],
          "parcoords": [
           {
            "line": {
             "colorbar": {
              "outlinewidth": 0,
              "ticks": ""
             }
            },
            "type": "parcoords"
           }
          ],
          "pie": [
           {
            "automargin": true,
            "type": "pie"
           }
          ],
          "scatter": [
           {
            "fillpattern": {
             "fillmode": "overlay",
             "size": 10,
             "solidity": 0.2
            },
            "type": "scatter"
           }
          ],
          "scatter3d": [
           {
            "line": {
             "colorbar": {
              "outlinewidth": 0,
              "ticks": ""
             }
            },
            "marker": {
             "colorbar": {
              "outlinewidth": 0,
              "ticks": ""
             }
            },
            "type": "scatter3d"
           }
          ],
          "scattercarpet": [
           {
            "marker": {
             "colorbar": {
              "outlinewidth": 0,
              "ticks": ""
             }
            },
            "type": "scattercarpet"
           }
          ],
          "scattergeo": [
           {
            "marker": {
             "colorbar": {
              "outlinewidth": 0,
              "ticks": ""
             }
            },
            "type": "scattergeo"
           }
          ],
          "scattergl": [
           {
            "marker": {
             "colorbar": {
              "outlinewidth": 0,
              "ticks": ""
             }
            },
            "type": "scattergl"
           }
          ],
          "scattermapbox": [
           {
            "marker": {
             "colorbar": {
              "outlinewidth": 0,
              "ticks": ""
             }
            },
            "type": "scattermapbox"
           }
          ],
          "scatterpolar": [
           {
            "marker": {
             "colorbar": {
              "outlinewidth": 0,
              "ticks": ""
             }
            },
            "type": "scatterpolar"
           }
          ],
          "scatterpolargl": [
           {
            "marker": {
             "colorbar": {
              "outlinewidth": 0,
              "ticks": ""
             }
            },
            "type": "scatterpolargl"
           }
          ],
          "scatterternary": [
           {
            "marker": {
             "colorbar": {
              "outlinewidth": 0,
              "ticks": ""
             }
            },
            "type": "scatterternary"
           }
          ],
          "surface": [
           {
            "colorbar": {
             "outlinewidth": 0,
             "ticks": ""
            },
            "colorscale": [
             [
              0,
              "#0d0887"
             ],
             [
              0.1111111111111111,
              "#46039f"
             ],
             [
              0.2222222222222222,
              "#7201a8"
             ],
             [
              0.3333333333333333,
              "#9c179e"
             ],
             [
              0.4444444444444444,
              "#bd3786"
             ],
             [
              0.5555555555555556,
              "#d8576b"
             ],
             [
              0.6666666666666666,
              "#ed7953"
             ],
             [
              0.7777777777777778,
              "#fb9f3a"
             ],
             [
              0.8888888888888888,
              "#fdca26"
             ],
             [
              1,
              "#f0f921"
             ]
            ],
            "type": "surface"
           }
          ],
          "table": [
           {
            "cells": {
             "fill": {
              "color": "#EBF0F8"
             },
             "line": {
              "color": "white"
             }
            },
            "header": {
             "fill": {
              "color": "#C8D4E3"
             },
             "line": {
              "color": "white"
             }
            },
            "type": "table"
           }
          ]
         },
         "layout": {
          "annotationdefaults": {
           "arrowcolor": "#2a3f5f",
           "arrowhead": 0,
           "arrowwidth": 1
          },
          "autotypenumbers": "strict",
          "coloraxis": {
           "colorbar": {
            "outlinewidth": 0,
            "ticks": ""
           }
          },
          "colorscale": {
           "diverging": [
            [
             0,
             "#8e0152"
            ],
            [
             0.1,
             "#c51b7d"
            ],
            [
             0.2,
             "#de77ae"
            ],
            [
             0.3,
             "#f1b6da"
            ],
            [
             0.4,
             "#fde0ef"
            ],
            [
             0.5,
             "#f7f7f7"
            ],
            [
             0.6,
             "#e6f5d0"
            ],
            [
             0.7,
             "#b8e186"
            ],
            [
             0.8,
             "#7fbc41"
            ],
            [
             0.9,
             "#4d9221"
            ],
            [
             1,
             "#276419"
            ]
           ],
           "sequential": [
            [
             0,
             "#0d0887"
            ],
            [
             0.1111111111111111,
             "#46039f"
            ],
            [
             0.2222222222222222,
             "#7201a8"
            ],
            [
             0.3333333333333333,
             "#9c179e"
            ],
            [
             0.4444444444444444,
             "#bd3786"
            ],
            [
             0.5555555555555556,
             "#d8576b"
            ],
            [
             0.6666666666666666,
             "#ed7953"
            ],
            [
             0.7777777777777778,
             "#fb9f3a"
            ],
            [
             0.8888888888888888,
             "#fdca26"
            ],
            [
             1,
             "#f0f921"
            ]
           ],
           "sequentialminus": [
            [
             0,
             "#0d0887"
            ],
            [
             0.1111111111111111,
             "#46039f"
            ],
            [
             0.2222222222222222,
             "#7201a8"
            ],
            [
             0.3333333333333333,
             "#9c179e"
            ],
            [
             0.4444444444444444,
             "#bd3786"
            ],
            [
             0.5555555555555556,
             "#d8576b"
            ],
            [
             0.6666666666666666,
             "#ed7953"
            ],
            [
             0.7777777777777778,
             "#fb9f3a"
            ],
            [
             0.8888888888888888,
             "#fdca26"
            ],
            [
             1,
             "#f0f921"
            ]
           ]
          },
          "colorway": [
           "#636efa",
           "#EF553B",
           "#00cc96",
           "#ab63fa",
           "#FFA15A",
           "#19d3f3",
           "#FF6692",
           "#B6E880",
           "#FF97FF",
           "#FECB52"
          ],
          "font": {
           "color": "#2a3f5f"
          },
          "geo": {
           "bgcolor": "white",
           "lakecolor": "white",
           "landcolor": "#E5ECF6",
           "showlakes": true,
           "showland": true,
           "subunitcolor": "white"
          },
          "hoverlabel": {
           "align": "left"
          },
          "hovermode": "closest",
          "mapbox": {
           "style": "light"
          },
          "paper_bgcolor": "white",
          "plot_bgcolor": "#E5ECF6",
          "polar": {
           "angularaxis": {
            "gridcolor": "white",
            "linecolor": "white",
            "ticks": ""
           },
           "bgcolor": "#E5ECF6",
           "radialaxis": {
            "gridcolor": "white",
            "linecolor": "white",
            "ticks": ""
           }
          },
          "scene": {
           "xaxis": {
            "backgroundcolor": "#E5ECF6",
            "gridcolor": "white",
            "gridwidth": 2,
            "linecolor": "white",
            "showbackground": true,
            "ticks": "",
            "zerolinecolor": "white"
           },
           "yaxis": {
            "backgroundcolor": "#E5ECF6",
            "gridcolor": "white",
            "gridwidth": 2,
            "linecolor": "white",
            "showbackground": true,
            "ticks": "",
            "zerolinecolor": "white"
           },
           "zaxis": {
            "backgroundcolor": "#E5ECF6",
            "gridcolor": "white",
            "gridwidth": 2,
            "linecolor": "white",
            "showbackground": true,
            "ticks": "",
            "zerolinecolor": "white"
           }
          },
          "shapedefaults": {
           "line": {
            "color": "#2a3f5f"
           }
          },
          "ternary": {
           "aaxis": {
            "gridcolor": "white",
            "linecolor": "white",
            "ticks": ""
           },
           "baxis": {
            "gridcolor": "white",
            "linecolor": "white",
            "ticks": ""
           },
           "bgcolor": "#E5ECF6",
           "caxis": {
            "gridcolor": "white",
            "linecolor": "white",
            "ticks": ""
           }
          },
          "title": {
           "x": 0.05
          },
          "xaxis": {
           "automargin": true,
           "gridcolor": "white",
           "linecolor": "white",
           "ticks": "",
           "title": {
            "standoff": 15
           },
           "zerolinecolor": "white",
           "zerolinewidth": 2
          },
          "yaxis": {
           "automargin": true,
           "gridcolor": "white",
           "linecolor": "white",
           "ticks": "",
           "title": {
            "standoff": 15
           },
           "zerolinecolor": "white",
           "zerolinewidth": 2
          }
         }
        },
        "title": {
         "text": "Optimization History Plot"
        },
        "xaxis": {
         "title": {
          "text": "Trial"
         }
        },
        "yaxis": {
         "title": {
          "text": "Objective Value"
         }
        }
       }
      }
     },
     "metadata": {},
     "output_type": "display_data"
    }
   ],
   "source": [
    "vis.plot_optimization_history(study)"
   ]
  },
  {
   "cell_type": "code",
   "execution_count": 14,
   "id": "1d197219",
   "metadata": {},
   "outputs": [
    {
     "data": {
      "application/vnd.plotly.v1+json": {
       "config": {
        "plotlyServerURL": "https://plot.ly"
       },
       "data": [
        {
         "marker": {
          "color": [
           0,
           1,
           2,
           3,
           4,
           5,
           6,
           7,
           8,
           9,
           10,
           11,
           12,
           13,
           14,
           15,
           16,
           17,
           18,
           19
          ],
          "colorbar": {
           "title": {
            "text": "Trial"
           },
           "x": 1,
           "xpad": 40
          },
          "colorscale": [
           [
            0,
            "rgb(247,251,255)"
           ],
           [
            0.125,
            "rgb(222,235,247)"
           ],
           [
            0.25,
            "rgb(198,219,239)"
           ],
           [
            0.375,
            "rgb(158,202,225)"
           ],
           [
            0.5,
            "rgb(107,174,214)"
           ],
           [
            0.625,
            "rgb(66,146,198)"
           ],
           [
            0.75,
            "rgb(33,113,181)"
           ],
           [
            0.875,
            "rgb(8,81,156)"
           ],
           [
            1,
            "rgb(8,48,107)"
           ]
          ],
          "line": {
           "color": "Grey",
           "width": 0.5
          },
          "showscale": true
         },
         "mode": "markers",
         "name": "Feasible Trial",
         "showlegend": false,
         "type": "scatter",
         "x": [
          14.838153859393632,
          49.73563790069885,
          0.2339507519896102,
          0.013981012819326727,
          3.0687212463708384,
          21.733133484254676,
          30.777139698923552,
          0.7313550974881502,
          45.884337926038675,
          0.11002304560963326,
          1.135916494850154,
          1.966940646659476,
          1.6608457267970917,
          1.6314497014966753,
          1.806665835159133,
          1.883338053705767,
          1.343331281240198,
          1.6582033161978769,
          1.8256648431062552,
          1.7849493613274645
         ],
         "xaxis": "x",
         "y": [
          0.8101527556634164,
          0.806812691330531,
          0.8030902503210307,
          0.7092119400326766,
          0.821320250948304,
          0.8127533818316314,
          0.8103057128343034,
          0.8246348440868445,
          0.8073481096811665,
          0.784120847280413,
          0.8251192810473448,
          0.8235384711888193,
          0.8249153067349972,
          0.8247878207584545,
          0.8243288777431423,
          0.823920929118447,
          0.8251192745471038,
          0.8248898095396886,
          0.8242523861572169,
          0.8243288712429013
         ],
         "yaxis": "y"
        },
        {
         "marker": {
          "color": [
           0,
           1,
           2,
           3,
           4,
           5,
           6,
           7,
           8,
           9,
           10,
           11,
           12,
           13,
           14,
           15,
           16,
           17,
           18,
           19
          ],
          "colorbar": {
           "title": {
            "text": "Trial"
           },
           "x": 1,
           "xpad": 40
          },
          "colorscale": [
           [
            0,
            "rgb(247,251,255)"
           ],
           [
            0.125,
            "rgb(222,235,247)"
           ],
           [
            0.25,
            "rgb(198,219,239)"
           ],
           [
            0.375,
            "rgb(158,202,225)"
           ],
           [
            0.5,
            "rgb(107,174,214)"
           ],
           [
            0.625,
            "rgb(66,146,198)"
           ],
           [
            0.75,
            "rgb(33,113,181)"
           ],
           [
            0.875,
            "rgb(8,81,156)"
           ],
           [
            1,
            "rgb(8,48,107)"
           ]
          ],
          "line": {
           "color": "Grey",
           "width": 0.5
          },
          "showscale": false
         },
         "mode": "markers",
         "name": "Feasible Trial",
         "showlegend": false,
         "type": "scatter",
         "x": [
          "lbfgs",
          "liblinear",
          "liblinear",
          "lbfgs",
          "lbfgs",
          "liblinear",
          "liblinear",
          "lbfgs",
          "liblinear",
          "liblinear",
          "lbfgs",
          "lbfgs",
          "lbfgs",
          "lbfgs",
          "lbfgs",
          "lbfgs",
          "lbfgs",
          "lbfgs",
          "lbfgs",
          "lbfgs"
         ],
         "xaxis": "x2",
         "y": [
          0.8101527556634164,
          0.806812691330531,
          0.8030902503210307,
          0.7092119400326766,
          0.821320250948304,
          0.8127533818316314,
          0.8103057128343034,
          0.8246348440868445,
          0.8073481096811665,
          0.784120847280413,
          0.8251192810473448,
          0.8235384711888193,
          0.8249153067349972,
          0.8247878207584545,
          0.8243288777431423,
          0.823920929118447,
          0.8251192745471038,
          0.8248898095396886,
          0.8242523861572169,
          0.8243288712429013
         ],
         "yaxis": "y2"
        }
       ],
       "layout": {
        "template": {
         "data": {
          "bar": [
           {
            "error_x": {
             "color": "#2a3f5f"
            },
            "error_y": {
             "color": "#2a3f5f"
            },
            "marker": {
             "line": {
              "color": "#E5ECF6",
              "width": 0.5
             },
             "pattern": {
              "fillmode": "overlay",
              "size": 10,
              "solidity": 0.2
             }
            },
            "type": "bar"
           }
          ],
          "barpolar": [
           {
            "marker": {
             "line": {
              "color": "#E5ECF6",
              "width": 0.5
             },
             "pattern": {
              "fillmode": "overlay",
              "size": 10,
              "solidity": 0.2
             }
            },
            "type": "barpolar"
           }
          ],
          "carpet": [
           {
            "aaxis": {
             "endlinecolor": "#2a3f5f",
             "gridcolor": "white",
             "linecolor": "white",
             "minorgridcolor": "white",
             "startlinecolor": "#2a3f5f"
            },
            "baxis": {
             "endlinecolor": "#2a3f5f",
             "gridcolor": "white",
             "linecolor": "white",
             "minorgridcolor": "white",
             "startlinecolor": "#2a3f5f"
            },
            "type": "carpet"
           }
          ],
          "choropleth": [
           {
            "colorbar": {
             "outlinewidth": 0,
             "ticks": ""
            },
            "type": "choropleth"
           }
          ],
          "contour": [
           {
            "colorbar": {
             "outlinewidth": 0,
             "ticks": ""
            },
            "colorscale": [
             [
              0,
              "#0d0887"
             ],
             [
              0.1111111111111111,
              "#46039f"
             ],
             [
              0.2222222222222222,
              "#7201a8"
             ],
             [
              0.3333333333333333,
              "#9c179e"
             ],
             [
              0.4444444444444444,
              "#bd3786"
             ],
             [
              0.5555555555555556,
              "#d8576b"
             ],
             [
              0.6666666666666666,
              "#ed7953"
             ],
             [
              0.7777777777777778,
              "#fb9f3a"
             ],
             [
              0.8888888888888888,
              "#fdca26"
             ],
             [
              1,
              "#f0f921"
             ]
            ],
            "type": "contour"
           }
          ],
          "contourcarpet": [
           {
            "colorbar": {
             "outlinewidth": 0,
             "ticks": ""
            },
            "type": "contourcarpet"
           }
          ],
          "heatmap": [
           {
            "colorbar": {
             "outlinewidth": 0,
             "ticks": ""
            },
            "colorscale": [
             [
              0,
              "#0d0887"
             ],
             [
              0.1111111111111111,
              "#46039f"
             ],
             [
              0.2222222222222222,
              "#7201a8"
             ],
             [
              0.3333333333333333,
              "#9c179e"
             ],
             [
              0.4444444444444444,
              "#bd3786"
             ],
             [
              0.5555555555555556,
              "#d8576b"
             ],
             [
              0.6666666666666666,
              "#ed7953"
             ],
             [
              0.7777777777777778,
              "#fb9f3a"
             ],
             [
              0.8888888888888888,
              "#fdca26"
             ],
             [
              1,
              "#f0f921"
             ]
            ],
            "type": "heatmap"
           }
          ],
          "heatmapgl": [
           {
            "colorbar": {
             "outlinewidth": 0,
             "ticks": ""
            },
            "colorscale": [
             [
              0,
              "#0d0887"
             ],
             [
              0.1111111111111111,
              "#46039f"
             ],
             [
              0.2222222222222222,
              "#7201a8"
             ],
             [
              0.3333333333333333,
              "#9c179e"
             ],
             [
              0.4444444444444444,
              "#bd3786"
             ],
             [
              0.5555555555555556,
              "#d8576b"
             ],
             [
              0.6666666666666666,
              "#ed7953"
             ],
             [
              0.7777777777777778,
              "#fb9f3a"
             ],
             [
              0.8888888888888888,
              "#fdca26"
             ],
             [
              1,
              "#f0f921"
             ]
            ],
            "type": "heatmapgl"
           }
          ],
          "histogram": [
           {
            "marker": {
             "pattern": {
              "fillmode": "overlay",
              "size": 10,
              "solidity": 0.2
             }
            },
            "type": "histogram"
           }
          ],
          "histogram2d": [
           {
            "colorbar": {
             "outlinewidth": 0,
             "ticks": ""
            },
            "colorscale": [
             [
              0,
              "#0d0887"
             ],
             [
              0.1111111111111111,
              "#46039f"
             ],
             [
              0.2222222222222222,
              "#7201a8"
             ],
             [
              0.3333333333333333,
              "#9c179e"
             ],
             [
              0.4444444444444444,
              "#bd3786"
             ],
             [
              0.5555555555555556,
              "#d8576b"
             ],
             [
              0.6666666666666666,
              "#ed7953"
             ],
             [
              0.7777777777777778,
              "#fb9f3a"
             ],
             [
              0.8888888888888888,
              "#fdca26"
             ],
             [
              1,
              "#f0f921"
             ]
            ],
            "type": "histogram2d"
           }
          ],
          "histogram2dcontour": [
           {
            "colorbar": {
             "outlinewidth": 0,
             "ticks": ""
            },
            "colorscale": [
             [
              0,
              "#0d0887"
             ],
             [
              0.1111111111111111,
              "#46039f"
             ],
             [
              0.2222222222222222,
              "#7201a8"
             ],
             [
              0.3333333333333333,
              "#9c179e"
             ],
             [
              0.4444444444444444,
              "#bd3786"
             ],
             [
              0.5555555555555556,
              "#d8576b"
             ],
             [
              0.6666666666666666,
              "#ed7953"
             ],
             [
              0.7777777777777778,
              "#fb9f3a"
             ],
             [
              0.8888888888888888,
              "#fdca26"
             ],
             [
              1,
              "#f0f921"
             ]
            ],
            "type": "histogram2dcontour"
           }
          ],
          "mesh3d": [
           {
            "colorbar": {
             "outlinewidth": 0,
             "ticks": ""
            },
            "type": "mesh3d"
           }
          ],
          "parcoords": [
           {
            "line": {
             "colorbar": {
              "outlinewidth": 0,
              "ticks": ""
             }
            },
            "type": "parcoords"
           }
          ],
          "pie": [
           {
            "automargin": true,
            "type": "pie"
           }
          ],
          "scatter": [
           {
            "fillpattern": {
             "fillmode": "overlay",
             "size": 10,
             "solidity": 0.2
            },
            "type": "scatter"
           }
          ],
          "scatter3d": [
           {
            "line": {
             "colorbar": {
              "outlinewidth": 0,
              "ticks": ""
             }
            },
            "marker": {
             "colorbar": {
              "outlinewidth": 0,
              "ticks": ""
             }
            },
            "type": "scatter3d"
           }
          ],
          "scattercarpet": [
           {
            "marker": {
             "colorbar": {
              "outlinewidth": 0,
              "ticks": ""
             }
            },
            "type": "scattercarpet"
           }
          ],
          "scattergeo": [
           {
            "marker": {
             "colorbar": {
              "outlinewidth": 0,
              "ticks": ""
             }
            },
            "type": "scattergeo"
           }
          ],
          "scattergl": [
           {
            "marker": {
             "colorbar": {
              "outlinewidth": 0,
              "ticks": ""
             }
            },
            "type": "scattergl"
           }
          ],
          "scattermapbox": [
           {
            "marker": {
             "colorbar": {
              "outlinewidth": 0,
              "ticks": ""
             }
            },
            "type": "scattermapbox"
           }
          ],
          "scatterpolar": [
           {
            "marker": {
             "colorbar": {
              "outlinewidth": 0,
              "ticks": ""
             }
            },
            "type": "scatterpolar"
           }
          ],
          "scatterpolargl": [
           {
            "marker": {
             "colorbar": {
              "outlinewidth": 0,
              "ticks": ""
             }
            },
            "type": "scatterpolargl"
           }
          ],
          "scatterternary": [
           {
            "marker": {
             "colorbar": {
              "outlinewidth": 0,
              "ticks": ""
             }
            },
            "type": "scatterternary"
           }
          ],
          "surface": [
           {
            "colorbar": {
             "outlinewidth": 0,
             "ticks": ""
            },
            "colorscale": [
             [
              0,
              "#0d0887"
             ],
             [
              0.1111111111111111,
              "#46039f"
             ],
             [
              0.2222222222222222,
              "#7201a8"
             ],
             [
              0.3333333333333333,
              "#9c179e"
             ],
             [
              0.4444444444444444,
              "#bd3786"
             ],
             [
              0.5555555555555556,
              "#d8576b"
             ],
             [
              0.6666666666666666,
              "#ed7953"
             ],
             [
              0.7777777777777778,
              "#fb9f3a"
             ],
             [
              0.8888888888888888,
              "#fdca26"
             ],
             [
              1,
              "#f0f921"
             ]
            ],
            "type": "surface"
           }
          ],
          "table": [
           {
            "cells": {
             "fill": {
              "color": "#EBF0F8"
             },
             "line": {
              "color": "white"
             }
            },
            "header": {
             "fill": {
              "color": "#C8D4E3"
             },
             "line": {
              "color": "white"
             }
            },
            "type": "table"
           }
          ]
         },
         "layout": {
          "annotationdefaults": {
           "arrowcolor": "#2a3f5f",
           "arrowhead": 0,
           "arrowwidth": 1
          },
          "autotypenumbers": "strict",
          "coloraxis": {
           "colorbar": {
            "outlinewidth": 0,
            "ticks": ""
           }
          },
          "colorscale": {
           "diverging": [
            [
             0,
             "#8e0152"
            ],
            [
             0.1,
             "#c51b7d"
            ],
            [
             0.2,
             "#de77ae"
            ],
            [
             0.3,
             "#f1b6da"
            ],
            [
             0.4,
             "#fde0ef"
            ],
            [
             0.5,
             "#f7f7f7"
            ],
            [
             0.6,
             "#e6f5d0"
            ],
            [
             0.7,
             "#b8e186"
            ],
            [
             0.8,
             "#7fbc41"
            ],
            [
             0.9,
             "#4d9221"
            ],
            [
             1,
             "#276419"
            ]
           ],
           "sequential": [
            [
             0,
             "#0d0887"
            ],
            [
             0.1111111111111111,
             "#46039f"
            ],
            [
             0.2222222222222222,
             "#7201a8"
            ],
            [
             0.3333333333333333,
             "#9c179e"
            ],
            [
             0.4444444444444444,
             "#bd3786"
            ],
            [
             0.5555555555555556,
             "#d8576b"
            ],
            [
             0.6666666666666666,
             "#ed7953"
            ],
            [
             0.7777777777777778,
             "#fb9f3a"
            ],
            [
             0.8888888888888888,
             "#fdca26"
            ],
            [
             1,
             "#f0f921"
            ]
           ],
           "sequentialminus": [
            [
             0,
             "#0d0887"
            ],
            [
             0.1111111111111111,
             "#46039f"
            ],
            [
             0.2222222222222222,
             "#7201a8"
            ],
            [
             0.3333333333333333,
             "#9c179e"
            ],
            [
             0.4444444444444444,
             "#bd3786"
            ],
            [
             0.5555555555555556,
             "#d8576b"
            ],
            [
             0.6666666666666666,
             "#ed7953"
            ],
            [
             0.7777777777777778,
             "#fb9f3a"
            ],
            [
             0.8888888888888888,
             "#fdca26"
            ],
            [
             1,
             "#f0f921"
            ]
           ]
          },
          "colorway": [
           "#636efa",
           "#EF553B",
           "#00cc96",
           "#ab63fa",
           "#FFA15A",
           "#19d3f3",
           "#FF6692",
           "#B6E880",
           "#FF97FF",
           "#FECB52"
          ],
          "font": {
           "color": "#2a3f5f"
          },
          "geo": {
           "bgcolor": "white",
           "lakecolor": "white",
           "landcolor": "#E5ECF6",
           "showlakes": true,
           "showland": true,
           "subunitcolor": "white"
          },
          "hoverlabel": {
           "align": "left"
          },
          "hovermode": "closest",
          "mapbox": {
           "style": "light"
          },
          "paper_bgcolor": "white",
          "plot_bgcolor": "#E5ECF6",
          "polar": {
           "angularaxis": {
            "gridcolor": "white",
            "linecolor": "white",
            "ticks": ""
           },
           "bgcolor": "#E5ECF6",
           "radialaxis": {
            "gridcolor": "white",
            "linecolor": "white",
            "ticks": ""
           }
          },
          "scene": {
           "xaxis": {
            "backgroundcolor": "#E5ECF6",
            "gridcolor": "white",
            "gridwidth": 2,
            "linecolor": "white",
            "showbackground": true,
            "ticks": "",
            "zerolinecolor": "white"
           },
           "yaxis": {
            "backgroundcolor": "#E5ECF6",
            "gridcolor": "white",
            "gridwidth": 2,
            "linecolor": "white",
            "showbackground": true,
            "ticks": "",
            "zerolinecolor": "white"
           },
           "zaxis": {
            "backgroundcolor": "#E5ECF6",
            "gridcolor": "white",
            "gridwidth": 2,
            "linecolor": "white",
            "showbackground": true,
            "ticks": "",
            "zerolinecolor": "white"
           }
          },
          "shapedefaults": {
           "line": {
            "color": "#2a3f5f"
           }
          },
          "ternary": {
           "aaxis": {
            "gridcolor": "white",
            "linecolor": "white",
            "ticks": ""
           },
           "baxis": {
            "gridcolor": "white",
            "linecolor": "white",
            "ticks": ""
           },
           "bgcolor": "#E5ECF6",
           "caxis": {
            "gridcolor": "white",
            "linecolor": "white",
            "ticks": ""
           }
          },
          "title": {
           "x": 0.05
          },
          "xaxis": {
           "automargin": true,
           "gridcolor": "white",
           "linecolor": "white",
           "ticks": "",
           "title": {
            "standoff": 15
           },
           "zerolinecolor": "white",
           "zerolinewidth": 2
          },
          "yaxis": {
           "automargin": true,
           "gridcolor": "white",
           "linecolor": "white",
           "ticks": "",
           "title": {
            "standoff": 15
           },
           "zerolinecolor": "white",
           "zerolinewidth": 2
          }
         }
        },
        "title": {
         "text": "Slice Plot"
        },
        "xaxis": {
         "anchor": "y",
         "domain": [
          0,
          0.45
         ],
         "title": {
          "text": "C"
         },
         "type": "log"
        },
        "xaxis2": {
         "anchor": "y2",
         "categoryarray": [
          "lbfgs",
          "liblinear"
         ],
         "categoryorder": "array",
         "domain": [
          0.55,
          1
         ],
         "title": {
          "text": "solver"
         },
         "type": "category"
        },
        "yaxis": {
         "anchor": "x",
         "domain": [
          0,
          1
         ],
         "title": {
          "text": "Objective Value"
         }
        },
        "yaxis2": {
         "anchor": "x2",
         "domain": [
          0,
          1
         ],
         "matches": "y",
         "showticklabels": false
        }
       }
      }
     },
     "metadata": {},
     "output_type": "display_data"
    }
   ],
   "source": [
    "vis.plot_slice(study)"
   ]
  },
  {
   "cell_type": "code",
   "execution_count": 15,
   "id": "4626fe95",
   "metadata": {},
   "outputs": [
    {
     "name": "stderr",
     "output_type": "stream",
     "text": [
      "/Users/haitao/.pyenv/versions/3.11.6/envs/TFT/lib/python3.11/site-packages/sklearn/linear_model/_logistic.py:460: ConvergenceWarning:\n",
      "\n",
      "lbfgs failed to converge (status=1):\n",
      "STOP: TOTAL NO. of ITERATIONS REACHED LIMIT.\n",
      "\n",
      "Increase the number of iterations (max_iter) or scale the data as shown in:\n",
      "    https://scikit-learn.org/stable/modules/preprocessing.html\n",
      "Please also refer to the documentation for alternative solver options:\n",
      "    https://scikit-learn.org/stable/modules/linear_model.html#logistic-regression\n",
      "\n"
     ]
    },
    {
     "name": "stdout",
     "output_type": "stream",
     "text": [
      "Accuracy: \u001b[94m0.8108\u001b[0m\n",
      "                                                                  precision    recall  f1-score   support\n",
      "\n",
      "                                                       3rd Party      0.316     0.300     0.308        20\n",
      "                                                    Data Science      0.619     0.565     0.591        23\n",
      "                                                    Delfi Portal      0.580     0.735     0.648       471\n",
      "                                                      Deployment      0.658     0.669     0.663       181\n",
      "                                                        DrillOps      0.842     0.744     0.790        43\n",
      "                                                       DrillPlan      0.681     0.848     0.755       164\n",
      "                                                            Edge      0.978     0.989     0.984       184\n",
      "                                                            GeoX      0.862     0.833     0.847        30\n",
      "                                                 InterACT Inside      0.812     0.591     0.684        22\n",
      "                                                           MERAK      0.907     0.932     0.919        73\n",
      "                                                             OFM      0.854     0.900     0.877       241\n",
      "                                                            OLGA      0.859     0.859     0.859       177\n",
      "                                            Omega, VISTA, OMNI3D      0.852     0.788     0.819        66\n",
      "                                 Others Products (not in top 25)      0.662     0.643     0.652        70\n",
      "                                                    PIPESIM, IAM      0.745     0.771     0.758       140\n",
      "                                                          Petrel      0.923     0.795     0.854      2790\n",
      "                                                        PetroMod      0.740     0.685     0.712        54\n",
      "                                           ProSource, InnerLogix      0.804     0.774     0.788        53\n",
      "                                            ProdOps, Avocet, PDF      0.781     0.860     0.819       236\n",
      "RE (Petrel RE, DELFI RE, ECLIPSE, INTERSECT, ODRS, FluidModeler)      0.763     0.788     0.775       968\n",
      "                                                            RTDS      0.948     0.982     0.964       386\n",
      "                                                         RigHour      0.964     0.941     0.952       170\n",
      "                  Storage, File Management, Secure Data Exchange      0.449     0.726     0.555        84\n",
      "                                                          Studio      0.683     0.836     0.751       152\n",
      "                                                        Symmetry      0.759     0.745     0.752        55\n",
      "                                                         Techlog      0.700     0.827     0.758       392\n",
      "\n",
      "                                                        accuracy                          0.811      7245\n",
      "                                                       macro avg      0.759     0.774     0.763      7245\n",
      "                                                    weighted avg      0.826     0.811     0.815      7245\n",
      "\n"
     ]
    },
    {
     "data": {
      "image/png": "[encoded data removed]",
      "text/plain": [
       "<Figure size 1200x1200 with 1 Axes>"
      ]
     },
     "metadata": {},
     "output_type": "display_data"
    },
    {
     "name": "stdout",
     "output_type": "stream",
     "text": [
      "Accuracy of top 1 prediction is \u001b[94m0.811\u001b[0m.\n",
      "Accuracy of top 3 prediction is \u001b[94m0.947\u001b[0m.\n",
      "Accuracy of top 5 prediction is \u001b[94m0.971\u001b[0m.\n"
     ]
    }
   ],
   "source": [
    "# Create and train the best Logistic Regression model\n",
    "best_model_logReg= LogisticRegression(class_weight=class_weight, **best_params)\n",
    "best_model_logReg.fit(X_train_encoded, y_train)\n",
    "\n",
    "# Step 4: Model Evaluation\n",
    "y_pred_logReg = best_model_logReg.predict(X_test_encoded)\n",
    "accuracy = accuracy_score(y_test, y_pred_logReg)\n",
    "print(f'Accuracy: \\033[94m{accuracy:.4f}\\033[0m')\n",
    "\n",
    "report = classification_report(y_test, y_pred_logReg, digits=3)\n",
    "print(report)\n",
    "\n",
    "plot_confusion_matrix(y_test, y_pred_logReg, title='Confusion matrix for Rests')\n",
    "df_pred_top5_logReg = top5_accuracy_report(best_model_logReg, vectorizer_tfidf, X_test, y_test, pre_processed=True)"
   ]
  },
  {
   "cell_type": "code",
   "execution_count": 16,
   "id": "f884b5c3",
   "metadata": {},
   "outputs": [],
   "source": [
    "# Configuration: Classify top 25 products; Text column: Title_Translated, Title words length: (4, 15); Records/product caped at 4000\n",
    "# Accuracy of top 1 prediction is 0.812.\n",
    "# Accuracy of top 3 prediction is 0.948.\n",
    "# Accuracy of top 5 prediction is 0.972.\n",
    "# export the model\n",
    "pickle.dump(best_model_logReg, open(f'{MODEL_FOLDER_PATH}/model_logistic_regression.pkl', 'wb'))\n",
    "pickle.dump(vectorizer_tfidf, open(f'{MODEL_FOLDER_PATH}/vectorizer_logistic_regression.pkl', 'wb'))"
   ]
  },
  {
   "cell_type": "markdown",
   "id": "09bd819b",
   "metadata": {},
   "source": [
    "## MultinomialNB (2min)"
   ]
  },
  {
   "cell_type": "code",
   "execution_count": null,
   "id": "3343f985",
   "metadata": {},
   "outputs": [],
   "source": [
    "# Define an objective function to optimize\n",
    "def objective(trial):\n",
    "\n",
    "    # Define hyperparameter search space of MultinomialNB model\n",
    "    pamams = {\n",
    "        'alpha': trial.suggest_float('alpha', 1e-6, 1e+2, log=True),\n",
    "        'fit_prior': trial.suggest_categorical('fit_prior', [True, False])\n",
    "    }\n",
    "    \n",
    "    # Create and train the SGD Classifier with suggested hyperparameters\n",
    "    model_multinomialNB = MultinomialNB(**pamams)\n",
    "\n",
    "    # Evaluate the model on the validation set\n",
    "    scores = cross_val_score(model_multinomialNB, X_train_encoded, y_train, cv=5, scoring='accuracy')\n",
    "\n",
    "    return np.mean(scores)\n",
    "\n",
    "# Create an Optuna study and optimize the objective function\n",
    "study = optuna.create_study(direction='maximize')\n",
    "study.optimize(\n",
    "    objective,\n",
    "    n_trials=250, \n",
    "    n_jobs=-1, \n",
    "    show_progress_bar=True,\n",
    "    )  # You can adjust the number of trials\n",
    "\n",
    "# Print the best hyperparameters and corresponding accuracy\n",
    "best_params = study.best_params\n",
    "best_accuracy = study.best_value\n",
    "\n",
    "# Create and train the best Logistic Regression model\n",
    "best_model_multinomialNB = MultinomialNB(**best_params)\n",
    "best_model_multinomialNB.fit(X_train_encoded, y_train)\n",
    "print(\"Best Hyperparameters:\", best_params)\n",
    "print(\"Best Accuracy:\", best_accuracy)"
   ]
  },
  {
   "cell_type": "code",
   "execution_count": null,
   "id": "c2540fde",
   "metadata": {},
   "outputs": [],
   "source": [
    "# weights = df_rests['ProductName'].value_counts().apply(np.sqrt).to_dict()\n",
    "model_multinomialNB = best_model_multinomialNB\n",
    "\n",
    "# Step 4: Model Evaluation\n",
    "y_pred_multinomialNB = model_multinomialNB.predict(X_test_encoded)\n",
    "accuracy = accuracy_score(y_test, y_pred_multinomialNB)\n",
    "print(f'Accuracy: \\033[94m{accuracy:4f}\\033[0m')\n",
    "\n",
    "report = classification_report(y_test, y_pred_multinomialNB, digits=3)\n",
    "print(report)\n",
    "\n",
    "plot_confusion_matrix(y_test, y_pred_multinomialNB, title='Confusion matrix for Rests')\n",
    "df_pred_top5_multinomialNB = top5_accuracy_report(model_multinomialNB, vectorizer_tfidf, X_test, y_test, pre_processed=True)"
   ]
  },
  {
   "cell_type": "code",
   "execution_count": null,
   "id": "8a2e6a52",
   "metadata": {},
   "outputs": [],
   "source": [
    "# Accuracy of top 1 prediction is 0.789.\n",
    "# Accuracy of top 3 prediction is 0.927.\n",
    "# Accuracy of top 5 prediction is 0.956.\n",
    "# export the model and the vectorizer\n",
    "pickle.dump(best_model_multinomialNB, open(f'{MODEL_FOLDER_PATH}/model_multinomialNB.pkl', 'wb'))\n",
    "pickle.dump(vectorizer_countvec, open(f'{MODEL_FOLDER_PATH}/vectorizer_multinomialNB.pkl', 'wb'))"
   ]
  },
  {
   "cell_type": "markdown",
   "id": "ccfa854f",
   "metadata": {},
   "source": [
    "## SVC Linear (>60min)"
   ]
  },
  {
   "cell_type": "code",
   "execution_count": 27,
   "id": "711e8cb5",
   "metadata": {},
   "outputs": [],
   "source": [
    "# user Optuna to tune the hyperparameters for SVC Linear\n",
    "study_name = 'SVC_linear'\n",
    "storage_name = 'sqlite:///optuna_study.db'\n",
    "\n",
    "# Clean up the study if it exists\n",
    "try:\n",
    "    optuna.delete_study(study_name=study_name, storage=storage_name)\n",
    "except:\n",
    "    pass"
   ]
  },
  {
   "cell_type": "code",
   "execution_count": 28,
   "id": "a1a80439",
   "metadata": {},
   "outputs": [
    {
     "name": "stderr",
     "output_type": "stream",
     "text": [
      "[I 2023-10-31 14:06:53,890] A new study created in RDB with name: SVC_linear\n"
     ]
    },
    {
     "data": {
      "application/vnd.jupyter.widget-view+json": {
       "model_id": "698d2f20a2c141de96fbdfb17bedf8c9",
       "version_major": 2,
       "version_minor": 0
      },
      "text/plain": [
       "  0%|          | 0/20 [00:00<?, ?it/s]"
      ]
     },
     "metadata": {},
     "output_type": "display_data"
    },
    {
     "name": "stdout",
     "output_type": "stream",
     "text": [
      "[I 2023-10-31 14:38:40,933] Trial 8 finished with value: 0.8045944743401361 and parameters: {'C': 1.280001997492467}. Best is trial 8 with value: 0.8045944743401361.\n",
      "[I 2023-10-31 14:41:40,900] Trial 9 finished with value: 0.8031666834047873 and parameters: {'C': 1.4751752754413106}. Best is trial 8 with value: 0.8045944743401361.\n",
      "[I 2023-10-31 14:41:42,118] Trial 1 finished with value: 0.8007444953521652 and parameters: {'C': 1.8997581398179033}. Best is trial 8 with value: 0.8045944743401361.\n",
      "[I 2023-10-31 14:41:42,617] Trial 7 finished with value: 0.8009229724692043 and parameters: {'C': 1.8367948915534595}. Best is trial 8 with value: 0.8045944743401361.\n",
      "[I 2023-10-31 14:41:43,362] Trial 4 finished with value: 0.8019428407808219 and parameters: {'C': 1.6192142681929966}. Best is trial 8 with value: 0.8045944743401361.\n",
      "[I 2023-10-31 14:41:43,748] Trial 0 finished with value: 0.8016113707415702 and parameters: {'C': 1.7509428335653188}. Best is trial 8 with value: 0.8045944743401361.\n",
      "[I 2023-10-31 14:41:44,604] Trial 6 finished with value: 0.8050789145507569 and parameters: {'C': 1.215661480253824}. Best is trial 6 with value: 0.8050789145507569.\n",
      "[I 2023-10-31 14:41:47,816] Trial 2 finished with value: 0.8059457899401622 and parameters: {'C': 1.1416712472101753}. Best is trial 2 with value: 0.8059457899401622.\n",
      "[I 2023-10-31 14:41:48,388] Trial 5 finished with value: 0.8056398300967007 and parameters: {'C': 1.1590907880022543}. Best is trial 2 with value: 0.8059457899401622.\n",
      "[I 2023-10-31 14:41:50,848] Trial 3 finished with value: 0.8068636824710277 and parameters: {'C': 1.0127233140541958}. Best is trial 3 with value: 0.8068636824710277.\n",
      "[I 2023-10-31 15:06:56,134] Trial 10 finished with value: 0.8026822399440461 and parameters: {'C': 1.5385389632689959}. Best is trial 3 with value: 0.8068636824710277.\n",
      "[I 2023-10-31 15:09:46,134] Trial 13 finished with value: 0.8007954897427823 and parameters: {'C': 1.9001534967197669}. Best is trial 3 with value: 0.8068636824710277.\n",
      "[I 2023-10-31 15:09:51,136] Trial 12 finished with value: 0.8042885242470366 and parameters: {'C': 1.3320345883277858}. Best is trial 3 with value: 0.8068636824710277.\n",
      "[I 2023-10-31 15:10:35,055] Trial 18 finished with value: 0.8023762801005848 and parameters: {'C': 1.5801529355031374}. Best is trial 3 with value: 0.8068636824710277.\n",
      "[I 2023-10-31 15:10:36,466] Trial 15 finished with value: 0.8042885242470366 and parameters: {'C': 1.33261948363687}. Best is trial 3 with value: 0.8068636824710277.\n",
      "[I 2023-10-31 15:12:14,604] Trial 14 finished with value: 0.8010504519455057 and parameters: {'C': 1.8240923558901592}. Best is trial 3 with value: 0.8068636824710277.\n",
      "[I 2023-10-31 15:13:43,912] Trial 11 finished with value: 0.800413048063757 and parameters: {'C': 1.9859532903004617}. Best is trial 3 with value: 0.8068636824710277.\n",
      "[I 2023-10-31 15:13:47,084] Trial 16 finished with value: 0.8011014495862433 and parameters: {'C': 1.8153434763458027}. Best is trial 3 with value: 0.8068636824710277.\n",
      "[I 2023-10-31 15:13:51,669] Trial 17 finished with value: 0.8044670013640756 and parameters: {'C': 1.2998933983348941}. Best is trial 3 with value: 0.8068636824710277.\n",
      "[I 2023-10-31 15:13:54,067] Trial 19 finished with value: 0.8065322254322579 and parameters: {'C': 1.0435254329625407}. Best is trial 3 with value: 0.8068636824710277.\n",
      "Best Hyperparameters: {'C': 1.0127233140541958}\n"
     ]
    }
   ],
   "source": [
    "# Define an objective function to optimize\n",
    "def objective(trial):\n",
    "\n",
    "    # Define hyperparameter search space\n",
    "\n",
    "    pamams = {\n",
    "        'C': trial.suggest_float('C', 1e-2, 1e+2, log=True),\n",
    "        'max_iter': 50000,\n",
    "        'random_state': 42,\n",
    "    }\n",
    "    \n",
    "    # Create and train the SGD Classifier with suggested hyperparameters\n",
    "    model_svc_linear = SVC(kernel='linear', probability=True, class_weight=class_weight, **pamams)\n",
    "\n",
    "    # Evaluate the model on the validation set\n",
    "    scores = cross_val_score(model_svc_linear, X_train_encoded, y_train, cv=5, scoring='accuracy')\n",
    "\n",
    "    return np.mean(scores)\n",
    "\n",
    "# Create an Optuna study and optimize the objective function\n",
    "study = optuna.create_study(direction='maximize', study_name=study_name, storage=storage_name, load_if_exists=True)\n",
    "study.optimize(\n",
    "    objective,\n",
    "    n_trials=20, \n",
    "    n_jobs=-1, \n",
    "    show_progress_bar=True\n",
    "    )  # You can adjust the number of trials\n",
    "\n",
    "# Print the best hyperparameters and corresponding accuracy\n",
    "best_params = study.best_params\n",
    "best_accuracy = study.best_value\n",
    "\n",
    "print(\"Best Hyperparameters:\", best_params)"
   ]
  },
  {
   "cell_type": "code",
   "execution_count": 30,
   "id": "8424c88d",
   "metadata": {},
   "outputs": [
    {
     "data": {
      "application/vnd.plotly.v1+json": {
       "config": {
        "plotlyServerURL": "https://plot.ly"
       },
       "data": [
        {
         "mode": "markers",
         "name": "Objective Value",
         "type": "scatter",
         "x": [
          0,
          1,
          2,
          3,
          4,
          5,
          6,
          7,
          8,
          9,
          10,
          11,
          12,
          13,
          14,
          15,
          16,
          17,
          18,
          19
         ],
         "y": [
          0.8016113707415702,
          0.8007444953521652,
          0.8059457899401622,
          0.8068636824710277,
          0.8019428407808219,
          0.8056398300967007,
          0.8050789145507569,
          0.8009229724692043,
          0.8045944743401361,
          0.8031666834047873,
          0.8026822399440461,
          0.800413048063757,
          0.8042885242470366,
          0.8007954897427823,
          0.8010504519455057,
          0.8042885242470366,
          0.8011014495862433,
          0.8044670013640756,
          0.8023762801005848,
          0.8065322254322579
         ]
        },
        {
         "mode": "lines",
         "name": "Best Value",
         "type": "scatter",
         "x": [
          0,
          1,
          2,
          3,
          4,
          5,
          6,
          7,
          8,
          9,
          10,
          11,
          12,
          13,
          14,
          15,
          16,
          17,
          18,
          19
         ],
         "y": [
          0.8016113707415702,
          0.8016113707415702,
          0.8059457899401622,
          0.8068636824710277,
          0.8068636824710277,
          0.8068636824710277,
          0.8068636824710277,
          0.8068636824710277,
          0.8068636824710277,
          0.8068636824710277,
          0.8068636824710277,
          0.8068636824710277,
          0.8068636824710277,
          0.8068636824710277,
          0.8068636824710277,
          0.8068636824710277,
          0.8068636824710277,
          0.8068636824710277,
          0.8068636824710277,
          0.8068636824710277
         ]
        },
        {
         "marker": {
          "color": "#cccccc"
         },
         "mode": "markers",
         "name": "Infeasible Trial",
         "showlegend": false,
         "type": "scatter",
         "x": [],
         "y": []
        }
       ],
       "layout": {
        "template": {
         "data": {
          "bar": [
           {
            "error_x": {
             "color": "#2a3f5f"
            },
            "error_y": {
             "color": "#2a3f5f"
            },
            "marker": {
             "line": {
              "color": "#E5ECF6",
              "width": 0.5
             },
             "pattern": {
              "fillmode": "overlay",
              "size": 10,
              "solidity": 0.2
             }
            },
            "type": "bar"
           }
          ],
          "barpolar": [
           {
            "marker": {
             "line": {
              "color": "#E5ECF6",
              "width": 0.5
             },
             "pattern": {
              "fillmode": "overlay",
              "size": 10,
              "solidity": 0.2
             }
            },
            "type": "barpolar"
           }
          ],
          "carpet": [
           {
            "aaxis": {
             "endlinecolor": "#2a3f5f",
             "gridcolor": "white",
             "linecolor": "white",
             "minorgridcolor": "white",
             "startlinecolor": "#2a3f5f"
            },
            "baxis": {
             "endlinecolor": "#2a3f5f",
             "gridcolor": "white",
             "linecolor": "white",
             "minorgridcolor": "white",
             "startlinecolor": "#2a3f5f"
            },
            "type": "carpet"
           }
          ],
          "choropleth": [
           {
            "colorbar": {
             "outlinewidth": 0,
             "ticks": ""
            },
            "type": "choropleth"
           }
          ],
          "contour": [
           {
            "colorbar": {
             "outlinewidth": 0,
             "ticks": ""
            },
            "colorscale": [
             [
              0,
              "#0d0887"
             ],
             [
              0.1111111111111111,
              "#46039f"
             ],
             [
              0.2222222222222222,
              "#7201a8"
             ],
             [
              0.3333333333333333,
              "#9c179e"
             ],
             [
              0.4444444444444444,
              "#bd3786"
             ],
             [
              0.5555555555555556,
              "#d8576b"
             ],
             [
              0.6666666666666666,
              "#ed7953"
             ],
             [
              0.7777777777777778,
              "#fb9f3a"
             ],
             [
              0.8888888888888888,
              "#fdca26"
             ],
             [
              1,
              "#f0f921"
             ]
            ],
            "type": "contour"
           }
          ],
          "contourcarpet": [
           {
            "colorbar": {
             "outlinewidth": 0,
             "ticks": ""
            },
            "type": "contourcarpet"
           }
          ],
          "heatmap": [
           {
            "colorbar": {
             "outlinewidth": 0,
             "ticks": ""
            },
            "colorscale": [
             [
              0,
              "#0d0887"
             ],
             [
              0.1111111111111111,
              "#46039f"
             ],
             [
              0.2222222222222222,
              "#7201a8"
             ],
             [
              0.3333333333333333,
              "#9c179e"
             ],
             [
              0.4444444444444444,
              "#bd3786"
             ],
             [
              0.5555555555555556,
              "#d8576b"
             ],
             [
              0.6666666666666666,
              "#ed7953"
             ],
             [
              0.7777777777777778,
              "#fb9f3a"
             ],
             [
              0.8888888888888888,
              "#fdca26"
             ],
             [
              1,
              "#f0f921"
             ]
            ],
            "type": "heatmap"
           }
          ],
          "heatmapgl": [
           {
            "colorbar": {
             "outlinewidth": 0,
             "ticks": ""
            },
            "colorscale": [
             [
              0,
              "#0d0887"
             ],
             [
              0.1111111111111111,
              "#46039f"
             ],
             [
              0.2222222222222222,
              "#7201a8"
             ],
             [
              0.3333333333333333,
              "#9c179e"
             ],
             [
              0.4444444444444444,
              "#bd3786"
             ],
             [
              0.5555555555555556,
              "#d8576b"
             ],
             [
              0.6666666666666666,
              "#ed7953"
             ],
             [
              0.7777777777777778,
              "#fb9f3a"
             ],
             [
              0.8888888888888888,
              "#fdca26"
             ],
             [
              1,
              "#f0f921"
             ]
            ],
            "type": "heatmapgl"
           }
          ],
          "histogram": [
           {
            "marker": {
             "pattern": {
              "fillmode": "overlay",
              "size": 10,
              "solidity": 0.2
             }
            },
            "type": "histogram"
           }
          ],
          "histogram2d": [
           {
            "colorbar": {
             "outlinewidth": 0,
             "ticks": ""
            },
            "colorscale": [
             [
              0,
              "#0d0887"
             ],
             [
              0.1111111111111111,
              "#46039f"
             ],
             [
              0.2222222222222222,
              "#7201a8"
             ],
             [
              0.3333333333333333,
              "#9c179e"
             ],
             [
              0.4444444444444444,
              "#bd3786"
             ],
             [
              0.5555555555555556,
              "#d8576b"
             ],
             [
              0.6666666666666666,
              "#ed7953"
             ],
             [
              0.7777777777777778,
              "#fb9f3a"
             ],
             [
              0.8888888888888888,
              "#fdca26"
             ],
             [
              1,
              "#f0f921"
             ]
            ],
            "type": "histogram2d"
           }
          ],
          "histogram2dcontour": [
           {
            "colorbar": {
             "outlinewidth": 0,
             "ticks": ""
            },
            "colorscale": [
             [
              0,
              "#0d0887"
             ],
             [
              0.1111111111111111,
              "#46039f"
             ],
             [
              0.2222222222222222,
              "#7201a8"
             ],
             [
              0.3333333333333333,
              "#9c179e"
             ],
             [
              0.4444444444444444,
              "#bd3786"
             ],
             [
              0.5555555555555556,
              "#d8576b"
             ],
             [
              0.6666666666666666,
              "#ed7953"
             ],
             [
              0.7777777777777778,
              "#fb9f3a"
             ],
             [
              0.8888888888888888,
              "#fdca26"
             ],
             [
              1,
              "#f0f921"
             ]
            ],
            "type": "histogram2dcontour"
           }
          ],
          "mesh3d": [
           {
            "colorbar": {
             "outlinewidth": 0,
             "ticks": ""
            },
            "type": "mesh3d"
           }
          ],
          "parcoords": [
           {
            "line": {
             "colorbar": {
              "outlinewidth": 0,
              "ticks": ""
             }
            },
            "type": "parcoords"
           }
          ],
          "pie": [
           {
            "automargin": true,
            "type": "pie"
           }
          ],
          "scatter": [
           {
            "fillpattern": {
             "fillmode": "overlay",
             "size": 10,
             "solidity": 0.2
            },
            "type": "scatter"
           }
          ],
          "scatter3d": [
           {
            "line": {
             "colorbar": {
              "outlinewidth": 0,
              "ticks": ""
             }
            },
            "marker": {
             "colorbar": {
              "outlinewidth": 0,
              "ticks": ""
             }
            },
            "type": "scatter3d"
           }
          ],
          "scattercarpet": [
           {
            "marker": {
             "colorbar": {
              "outlinewidth": 0,
              "ticks": ""
             }
            },
            "type": "scattercarpet"
           }
          ],
          "scattergeo": [
           {
            "marker": {
             "colorbar": {
              "outlinewidth": 0,
              "ticks": ""
             }
            },
            "type": "scattergeo"
           }
          ],
          "scattergl": [
           {
            "marker": {
             "colorbar": {
              "outlinewidth": 0,
              "ticks": ""
             }
            },
            "type": "scattergl"
           }
          ],
          "scattermapbox": [
           {
            "marker": {
             "colorbar": {
              "outlinewidth": 0,
              "ticks": ""
             }
            },
            "type": "scattermapbox"
           }
          ],
          "scatterpolar": [
           {
            "marker": {
             "colorbar": {
              "outlinewidth": 0,
              "ticks": ""
             }
            },
            "type": "scatterpolar"
           }
          ],
          "scatterpolargl": [
           {
            "marker": {
             "colorbar": {
              "outlinewidth": 0,
              "ticks": ""
             }
            },
            "type": "scatterpolargl"
           }
          ],
          "scatterternary": [
           {
            "marker": {
             "colorbar": {
              "outlinewidth": 0,
              "ticks": ""
             }
            },
            "type": "scatterternary"
           }
          ],
          "surface": [
           {
            "colorbar": {
             "outlinewidth": 0,
             "ticks": ""
            },
            "colorscale": [
             [
              0,
              "#0d0887"
             ],
             [
              0.1111111111111111,
              "#46039f"
             ],
             [
              0.2222222222222222,
              "#7201a8"
             ],
             [
              0.3333333333333333,
              "#9c179e"
             ],
             [
              0.4444444444444444,
              "#bd3786"
             ],
             [
              0.5555555555555556,
              "#d8576b"
             ],
             [
              0.6666666666666666,
              "#ed7953"
             ],
             [
              0.7777777777777778,
              "#fb9f3a"
             ],
             [
              0.8888888888888888,
              "#fdca26"
             ],
             [
              1,
              "#f0f921"
             ]
            ],
            "type": "surface"
           }
          ],
          "table": [
           {
            "cells": {
             "fill": {
              "color": "#EBF0F8"
             },
             "line": {
              "color": "white"
             }
            },
            "header": {
             "fill": {
              "color": "#C8D4E3"
             },
             "line": {
              "color": "white"
             }
            },
            "type": "table"
           }
          ]
         },
         "layout": {
          "annotationdefaults": {
           "arrowcolor": "#2a3f5f",
           "arrowhead": 0,
           "arrowwidth": 1
          },
          "autotypenumbers": "strict",
          "coloraxis": {
           "colorbar": {
            "outlinewidth": 0,
            "ticks": ""
           }
          },
          "colorscale": {
           "diverging": [
            [
             0,
             "#8e0152"
            ],
            [
             0.1,
             "#c51b7d"
            ],
            [
             0.2,
             "#de77ae"
            ],
            [
             0.3,
             "#f1b6da"
            ],
            [
             0.4,
             "#fde0ef"
            ],
            [
             0.5,
             "#f7f7f7"
            ],
            [
             0.6,
             "#e6f5d0"
            ],
            [
             0.7,
             "#b8e186"
            ],
            [
             0.8,
             "#7fbc41"
            ],
            [
             0.9,
             "#4d9221"
            ],
            [
             1,
             "#276419"
            ]
           ],
           "sequential": [
            [
             0,
             "#0d0887"
            ],
            [
             0.1111111111111111,
             "#46039f"
            ],
            [
             0.2222222222222222,
             "#7201a8"
            ],
            [
             0.3333333333333333,
             "#9c179e"
            ],
            [
             0.4444444444444444,
             "#bd3786"
            ],
            [
             0.5555555555555556,
             "#d8576b"
            ],
            [
             0.6666666666666666,
             "#ed7953"
            ],
            [
             0.7777777777777778,
             "#fb9f3a"
            ],
            [
             0.8888888888888888,
             "#fdca26"
            ],
            [
             1,
             "#f0f921"
            ]
           ],
           "sequentialminus": [
            [
             0,
             "#0d0887"
            ],
            [
             0.1111111111111111,
             "#46039f"
            ],
            [
             0.2222222222222222,
             "#7201a8"
            ],
            [
             0.3333333333333333,
             "#9c179e"
            ],
            [
             0.4444444444444444,
             "#bd3786"
            ],
            [
             0.5555555555555556,
             "#d8576b"
            ],
            [
             0.6666666666666666,
             "#ed7953"
            ],
            [
             0.7777777777777778,
             "#fb9f3a"
            ],
            [
             0.8888888888888888,
             "#fdca26"
            ],
            [
             1,
             "#f0f921"
            ]
           ]
          },
          "colorway": [
           "#636efa",
           "#EF553B",
           "#00cc96",
           "#ab63fa",
           "#FFA15A",
           "#19d3f3",
           "#FF6692",
           "#B6E880",
           "#FF97FF",
           "#FECB52"
          ],
          "font": {
           "color": "#2a3f5f"
          },
          "geo": {
           "bgcolor": "white",
           "lakecolor": "white",
           "landcolor": "#E5ECF6",
           "showlakes": true,
           "showland": true,
           "subunitcolor": "white"
          },
          "hoverlabel": {
           "align": "left"
          },
          "hovermode": "closest",
          "mapbox": {
           "style": "light"
          },
          "paper_bgcolor": "white",
          "plot_bgcolor": "#E5ECF6",
          "polar": {
           "angularaxis": {
            "gridcolor": "white",
            "linecolor": "white",
            "ticks": ""
           },
           "bgcolor": "#E5ECF6",
           "radialaxis": {
            "gridcolor": "white",
            "linecolor": "white",
            "ticks": ""
           }
          },
          "scene": {
           "xaxis": {
            "backgroundcolor": "#E5ECF6",
            "gridcolor": "white",
            "gridwidth": 2,
            "linecolor": "white",
            "showbackground": true,
            "ticks": "",
            "zerolinecolor": "white"
           },
           "yaxis": {
            "backgroundcolor": "#E5ECF6",
            "gridcolor": "white",
            "gridwidth": 2,
            "linecolor": "white",
            "showbackground": true,
            "ticks": "",
            "zerolinecolor": "white"
           },
           "zaxis": {
            "backgroundcolor": "#E5ECF6",
            "gridcolor": "white",
            "gridwidth": 2,
            "linecolor": "white",
            "showbackground": true,
            "ticks": "",
            "zerolinecolor": "white"
           }
          },
          "shapedefaults": {
           "line": {
            "color": "#2a3f5f"
           }
          },
          "ternary": {
           "aaxis": {
            "gridcolor": "white",
            "linecolor": "white",
            "ticks": ""
           },
           "baxis": {
            "gridcolor": "white",
            "linecolor": "white",
            "ticks": ""
           },
           "bgcolor": "#E5ECF6",
           "caxis": {
            "gridcolor": "white",
            "linecolor": "white",
            "ticks": ""
           }
          },
          "title": {
           "x": 0.05
          },
          "xaxis": {
           "automargin": true,
           "gridcolor": "white",
           "linecolor": "white",
           "ticks": "",
           "title": {
            "standoff": 15
           },
           "zerolinecolor": "white",
           "zerolinewidth": 2
          },
          "yaxis": {
           "automargin": true,
           "gridcolor": "white",
           "linecolor": "white",
           "ticks": "",
           "title": {
            "standoff": 15
           },
           "zerolinecolor": "white",
           "zerolinewidth": 2
          }
         }
        },
        "title": {
         "text": "Optimization History Plot"
        },
        "xaxis": {
         "title": {
          "text": "Trial"
         }
        },
        "yaxis": {
         "title": {
          "text": "Objective Value"
         }
        }
       }
      }
     },
     "metadata": {},
     "output_type": "display_data"
    }
   ],
   "source": [
    "vis.plot_optimization_history(study)"
   ]
  },
  {
   "cell_type": "code",
   "execution_count": 31,
   "id": "40f67fbf",
   "metadata": {},
   "outputs": [
    {
     "data": {
      "application/vnd.plotly.v1+json": {
       "config": {
        "plotlyServerURL": "https://plot.ly"
       },
       "data": [
        {
         "marker": {
          "color": [
           0,
           1,
           2,
           3,
           4,
           5,
           6,
           7,
           8,
           9,
           10,
           11,
           12,
           13,
           14,
           15,
           16,
           17,
           18,
           19
          ],
          "colorbar": {
           "title": {
            "text": "Trial"
           },
           "x": 1,
           "xpad": 40
          },
          "colorscale": [
           [
            0,
            "rgb(247,251,255)"
           ],
           [
            0.125,
            "rgb(222,235,247)"
           ],
           [
            0.25,
            "rgb(198,219,239)"
           ],
           [
            0.375,
            "rgb(158,202,225)"
           ],
           [
            0.5,
            "rgb(107,174,214)"
           ],
           [
            0.625,
            "rgb(66,146,198)"
           ],
           [
            0.75,
            "rgb(33,113,181)"
           ],
           [
            0.875,
            "rgb(8,81,156)"
           ],
           [
            1,
            "rgb(8,48,107)"
           ]
          ],
          "line": {
           "color": "Grey",
           "width": 0.5
          }
         },
         "mode": "markers",
         "name": "Feasible Trial",
         "showlegend": false,
         "type": "scatter",
         "x": [
          1.7509428335653188,
          1.8997581398179033,
          1.1416712472101753,
          1.0127233140541958,
          1.6192142681929966,
          1.1590907880022543,
          1.215661480253824,
          1.8367948915534595,
          1.280001997492467,
          1.4751752754413106,
          1.5385389632689959,
          1.9859532903004617,
          1.3320345883277858,
          1.9001534967197669,
          1.8240923558901592,
          1.33261948363687,
          1.8153434763458027,
          1.2998933983348941,
          1.5801529355031374,
          1.0435254329625407
         ],
         "y": [
          0.8016113707415702,
          0.8007444953521652,
          0.8059457899401622,
          0.8068636824710277,
          0.8019428407808219,
          0.8056398300967007,
          0.8050789145507569,
          0.8009229724692043,
          0.8045944743401361,
          0.8031666834047873,
          0.8026822399440461,
          0.800413048063757,
          0.8042885242470366,
          0.8007954897427823,
          0.8010504519455057,
          0.8042885242470366,
          0.8011014495862433,
          0.8044670013640756,
          0.8023762801005848,
          0.8065322254322579
         ]
        }
       ],
       "layout": {
        "template": {
         "data": {
          "bar": [
           {
            "error_x": {
             "color": "#2a3f5f"
            },
            "error_y": {
             "color": "#2a3f5f"
            },
            "marker": {
             "line": {
              "color": "#E5ECF6",
              "width": 0.5
             },
             "pattern": {
              "fillmode": "overlay",
              "size": 10,
              "solidity": 0.2
             }
            },
            "type": "bar"
           }
          ],
          "barpolar": [
           {
            "marker": {
             "line": {
              "color": "#E5ECF6",
              "width": 0.5
             },
             "pattern": {
              "fillmode": "overlay",
              "size": 10,
              "solidity": 0.2
             }
            },
            "type": "barpolar"
           }
          ],
          "carpet": [
           {
            "aaxis": {
             "endlinecolor": "#2a3f5f",
             "gridcolor": "white",
             "linecolor": "white",
             "minorgridcolor": "white",
             "startlinecolor": "#2a3f5f"
            },
            "baxis": {
             "endlinecolor": "#2a3f5f",
             "gridcolor": "white",
             "linecolor": "white",
             "minorgridcolor": "white",
             "startlinecolor": "#2a3f5f"
            },
            "type": "carpet"
           }
          ],
          "choropleth": [
           {
            "colorbar": {
             "outlinewidth": 0,
             "ticks": ""
            },
            "type": "choropleth"
           }
          ],
          "contour": [
           {
            "colorbar": {
             "outlinewidth": 0,
             "ticks": ""
            },
            "colorscale": [
             [
              0,
              "#0d0887"
             ],
             [
              0.1111111111111111,
              "#46039f"
             ],
             [
              0.2222222222222222,
              "#7201a8"
             ],
             [
              0.3333333333333333,
              "#9c179e"
             ],
             [
              0.4444444444444444,
              "#bd3786"
             ],
             [
              0.5555555555555556,
              "#d8576b"
             ],
             [
              0.6666666666666666,
              "#ed7953"
             ],
             [
              0.7777777777777778,
              "#fb9f3a"
             ],
             [
              0.8888888888888888,
              "#fdca26"
             ],
             [
              1,
              "#f0f921"
             ]
            ],
            "type": "contour"
           }
          ],
          "contourcarpet": [
           {
            "colorbar": {
             "outlinewidth": 0,
             "ticks": ""
            },
            "type": "contourcarpet"
           }
          ],
          "heatmap": [
           {
            "colorbar": {
             "outlinewidth": 0,
             "ticks": ""
            },
            "colorscale": [
             [
              0,
              "#0d0887"
             ],
             [
              0.1111111111111111,
              "#46039f"
             ],
             [
              0.2222222222222222,
              "#7201a8"
             ],
             [
              0.3333333333333333,
              "#9c179e"
             ],
             [
              0.4444444444444444,
              "#bd3786"
             ],
             [
              0.5555555555555556,
              "#d8576b"
             ],
             [
              0.6666666666666666,
              "#ed7953"
             ],
             [
              0.7777777777777778,
              "#fb9f3a"
             ],
             [
              0.8888888888888888,
              "#fdca26"
             ],
             [
              1,
              "#f0f921"
             ]
            ],
            "type": "heatmap"
           }
          ],
          "heatmapgl": [
           {
            "colorbar": {
             "outlinewidth": 0,
             "ticks": ""
            },
            "colorscale": [
             [
              0,
              "#0d0887"
             ],
             [
              0.1111111111111111,
              "#46039f"
             ],
             [
              0.2222222222222222,
              "#7201a8"
             ],
             [
              0.3333333333333333,
              "#9c179e"
             ],
             [
              0.4444444444444444,
              "#bd3786"
             ],
             [
              0.5555555555555556,
              "#d8576b"
             ],
             [
              0.6666666666666666,
              "#ed7953"
             ],
             [
              0.7777777777777778,
              "#fb9f3a"
             ],
             [
              0.8888888888888888,
              "#fdca26"
             ],
             [
              1,
              "#f0f921"
             ]
            ],
            "type": "heatmapgl"
           }
          ],
          "histogram": [
           {
            "marker": {
             "pattern": {
              "fillmode": "overlay",
              "size": 10,
              "solidity": 0.2
             }
            },
            "type": "histogram"
           }
          ],
          "histogram2d": [
           {
            "colorbar": {
             "outlinewidth": 0,
             "ticks": ""
            },
            "colorscale": [
             [
              0,
              "#0d0887"
             ],
             [
              0.1111111111111111,
              "#46039f"
             ],
             [
              0.2222222222222222,
              "#7201a8"
             ],
             [
              0.3333333333333333,
              "#9c179e"
             ],
             [
              0.4444444444444444,
              "#bd3786"
             ],
             [
              0.5555555555555556,
              "#d8576b"
             ],
             [
              0.6666666666666666,
              "#ed7953"
             ],
             [
              0.7777777777777778,
              "#fb9f3a"
             ],
             [
              0.8888888888888888,
              "#fdca26"
             ],
             [
              1,
              "#f0f921"
             ]
            ],
            "type": "histogram2d"
           }
          ],
          "histogram2dcontour": [
           {
            "colorbar": {
             "outlinewidth": 0,
             "ticks": ""
            },
            "colorscale": [
             [
              0,
              "#0d0887"
             ],
             [
              0.1111111111111111,
              "#46039f"
             ],
             [
              0.2222222222222222,
              "#7201a8"
             ],
             [
              0.3333333333333333,
              "#9c179e"
             ],
             [
              0.4444444444444444,
              "#bd3786"
             ],
             [
              0.5555555555555556,
              "#d8576b"
             ],
             [
              0.6666666666666666,
              "#ed7953"
             ],
             [
              0.7777777777777778,
              "#fb9f3a"
             ],
             [
              0.8888888888888888,
              "#fdca26"
             ],
             [
              1,
              "#f0f921"
             ]
            ],
            "type": "histogram2dcontour"
           }
          ],
          "mesh3d": [
           {
            "colorbar": {
             "outlinewidth": 0,
             "ticks": ""
            },
            "type": "mesh3d"
           }
          ],
          "parcoords": [
           {
            "line": {
             "colorbar": {
              "outlinewidth": 0,
              "ticks": ""
             }
            },
            "type": "parcoords"
           }
          ],
          "pie": [
           {
            "automargin": true,
            "type": "pie"
           }
          ],
          "scatter": [
           {
            "fillpattern": {
             "fillmode": "overlay",
             "size": 10,
             "solidity": 0.2
            },
            "type": "scatter"
           }
          ],
          "scatter3d": [
           {
            "line": {
             "colorbar": {
              "outlinewidth": 0,
              "ticks": ""
             }
            },
            "marker": {
             "colorbar": {
              "outlinewidth": 0,
              "ticks": ""
             }
            },
            "type": "scatter3d"
           }
          ],
          "scattercarpet": [
           {
            "marker": {
             "colorbar": {
              "outlinewidth": 0,
              "ticks": ""
             }
            },
            "type": "scattercarpet"
           }
          ],
          "scattergeo": [
           {
            "marker": {
             "colorbar": {
              "outlinewidth": 0,
              "ticks": ""
             }
            },
            "type": "scattergeo"
           }
          ],
          "scattergl": [
           {
            "marker": {
             "colorbar": {
              "outlinewidth": 0,
              "ticks": ""
             }
            },
            "type": "scattergl"
           }
          ],
          "scattermapbox": [
           {
            "marker": {
             "colorbar": {
              "outlinewidth": 0,
              "ticks": ""
             }
            },
            "type": "scattermapbox"
           }
          ],
          "scatterpolar": [
           {
            "marker": {
             "colorbar": {
              "outlinewidth": 0,
              "ticks": ""
             }
            },
            "type": "scatterpolar"
           }
          ],
          "scatterpolargl": [
           {
            "marker": {
             "colorbar": {
              "outlinewidth": 0,
              "ticks": ""
             }
            },
            "type": "scatterpolargl"
           }
          ],
          "scatterternary": [
           {
            "marker": {
             "colorbar": {
              "outlinewidth": 0,
              "ticks": ""
             }
            },
            "type": "scatterternary"
           }
          ],
          "surface": [
           {
            "colorbar": {
             "outlinewidth": 0,
             "ticks": ""
            },
            "colorscale": [
             [
              0,
              "#0d0887"
             ],
             [
              0.1111111111111111,
              "#46039f"
             ],
             [
              0.2222222222222222,
              "#7201a8"
             ],
             [
              0.3333333333333333,
              "#9c179e"
             ],
             [
              0.4444444444444444,
              "#bd3786"
             ],
             [
              0.5555555555555556,
              "#d8576b"
             ],
             [
              0.6666666666666666,
              "#ed7953"
             ],
             [
              0.7777777777777778,
              "#fb9f3a"
             ],
             [
              0.8888888888888888,
              "#fdca26"
             ],
             [
              1,
              "#f0f921"
             ]
            ],
            "type": "surface"
           }
          ],
          "table": [
           {
            "cells": {
             "fill": {
              "color": "#EBF0F8"
             },
             "line": {
              "color": "white"
             }
            },
            "header": {
             "fill": {
              "color": "#C8D4E3"
             },
             "line": {
              "color": "white"
             }
            },
            "type": "table"
           }
          ]
         },
         "layout": {
          "annotationdefaults": {
           "arrowcolor": "#2a3f5f",
           "arrowhead": 0,
           "arrowwidth": 1
          },
          "autotypenumbers": "strict",
          "coloraxis": {
           "colorbar": {
            "outlinewidth": 0,
            "ticks": ""
           }
          },
          "colorscale": {
           "diverging": [
            [
             0,
             "#8e0152"
            ],
            [
             0.1,
             "#c51b7d"
            ],
            [
             0.2,
             "#de77ae"
            ],
            [
             0.3,
             "#f1b6da"
            ],
            [
             0.4,
             "#fde0ef"
            ],
            [
             0.5,
             "#f7f7f7"
            ],
            [
             0.6,
             "#e6f5d0"
            ],
            [
             0.7,
             "#b8e186"
            ],
            [
             0.8,
             "#7fbc41"
            ],
            [
             0.9,
             "#4d9221"
            ],
            [
             1,
             "#276419"
            ]
           ],
           "sequential": [
            [
             0,
             "#0d0887"
            ],
            [
             0.1111111111111111,
             "#46039f"
            ],
            [
             0.2222222222222222,
             "#7201a8"
            ],
            [
             0.3333333333333333,
             "#9c179e"
            ],
            [
             0.4444444444444444,
             "#bd3786"
            ],
            [
             0.5555555555555556,
             "#d8576b"
            ],
            [
             0.6666666666666666,
             "#ed7953"
            ],
            [
             0.7777777777777778,
             "#fb9f3a"
            ],
            [
             0.8888888888888888,
             "#fdca26"
            ],
            [
             1,
             "#f0f921"
            ]
           ],
           "sequentialminus": [
            [
             0,
             "#0d0887"
            ],
            [
             0.1111111111111111,
             "#46039f"
            ],
            [
             0.2222222222222222,
             "#7201a8"
            ],
            [
             0.3333333333333333,
             "#9c179e"
            ],
            [
             0.4444444444444444,
             "#bd3786"
            ],
            [
             0.5555555555555556,
             "#d8576b"
            ],
            [
             0.6666666666666666,
             "#ed7953"
            ],
            [
             0.7777777777777778,
             "#fb9f3a"
            ],
            [
             0.8888888888888888,
             "#fdca26"
            ],
            [
             1,
             "#f0f921"
            ]
           ]
          },
          "colorway": [
           "#636efa",
           "#EF553B",
           "#00cc96",
           "#ab63fa",
           "#FFA15A",
           "#19d3f3",
           "#FF6692",
           "#B6E880",
           "#FF97FF",
           "#FECB52"
          ],
          "font": {
           "color": "#2a3f5f"
          },
          "geo": {
           "bgcolor": "white",
           "lakecolor": "white",
           "landcolor": "#E5ECF6",
           "showlakes": true,
           "showland": true,
           "subunitcolor": "white"
          },
          "hoverlabel": {
           "align": "left"
          },
          "hovermode": "closest",
          "mapbox": {
           "style": "light"
          },
          "paper_bgcolor": "white",
          "plot_bgcolor": "#E5ECF6",
          "polar": {
           "angularaxis": {
            "gridcolor": "white",
            "linecolor": "white",
            "ticks": ""
           },
           "bgcolor": "#E5ECF6",
           "radialaxis": {
            "gridcolor": "white",
            "linecolor": "white",
            "ticks": ""
           }
          },
          "scene": {
           "xaxis": {
            "backgroundcolor": "#E5ECF6",
            "gridcolor": "white",
            "gridwidth": 2,
            "linecolor": "white",
            "showbackground": true,
            "ticks": "",
            "zerolinecolor": "white"
           },
           "yaxis": {
            "backgroundcolor": "#E5ECF6",
            "gridcolor": "white",
            "gridwidth": 2,
            "linecolor": "white",
            "showbackground": true,
            "ticks": "",
            "zerolinecolor": "white"
           },
           "zaxis": {
            "backgroundcolor": "#E5ECF6",
            "gridcolor": "white",
            "gridwidth": 2,
            "linecolor": "white",
            "showbackground": true,
            "ticks": "",
            "zerolinecolor": "white"
           }
          },
          "shapedefaults": {
           "line": {
            "color": "#2a3f5f"
           }
          },
          "ternary": {
           "aaxis": {
            "gridcolor": "white",
            "linecolor": "white",
            "ticks": ""
           },
           "baxis": {
            "gridcolor": "white",
            "linecolor": "white",
            "ticks": ""
           },
           "bgcolor": "#E5ECF6",
           "caxis": {
            "gridcolor": "white",
            "linecolor": "white",
            "ticks": ""
           }
          },
          "title": {
           "x": 0.05
          },
          "xaxis": {
           "automargin": true,
           "gridcolor": "white",
           "linecolor": "white",
           "ticks": "",
           "title": {
            "standoff": 15
           },
           "zerolinecolor": "white",
           "zerolinewidth": 2
          },
          "yaxis": {
           "automargin": true,
           "gridcolor": "white",
           "linecolor": "white",
           "ticks": "",
           "title": {
            "standoff": 15
           },
           "zerolinecolor": "white",
           "zerolinewidth": 2
          }
         }
        },
        "title": {
         "text": "Slice Plot"
        },
        "xaxis": {
         "title": {
          "text": "C"
         },
         "type": "log"
        },
        "yaxis": {
         "title": {
          "text": "Objective Value"
         }
        }
       }
      }
     },
     "metadata": {},
     "output_type": "display_data"
    }
   ],
   "source": [
    "vis.plot_slice(study)"
   ]
  },
  {
   "cell_type": "code",
   "execution_count": 32,
   "id": "4d8bfed5",
   "metadata": {},
   "outputs": [],
   "source": [
    "# Create and train the best Logistic Regression model\n",
    "best_model_svc_linear = SVC(kernel='linear', probability=True, class_weight=class_weight, **best_params)\n",
    "best_model_svc_linear.fit(X_train_encoded, y_train)\n",
    "\n",
    "# Step 4: Model Evaluation\n",
    "y_pred_svc_linear = best_model_svc_linear.predict(X_test_encoded)\n",
    "accuracy = accuracy_score(y_test, y_pred_svc_linear)\n",
    "print(f'Accuracy: \\033[94m{accuracy:4f}\\033[0m')\n",
    "\n",
    "report = classification_report(y_test, y_pred_svc_linear, digits=3)\n",
    "print(report)\n",
    "\n",
    "plot_confusion_matrix(y_test, y_pred_svc_linear, title='Confusion matrix for Rests')\n",
    "df_pred_top5_svc_linear = top5_accuracy_report(best_model_svc_linear, vectorizer_tfidf, X_test, y_test, pre_processed=True)"
   ]
  },
  {
   "cell_type": "code",
   "execution_count": null,
   "id": "22ecb86d",
   "metadata": {},
   "outputs": [],
   "source": [
    "# Accuracy of top 1 prediction is 0.816.\n",
    "# Accuracy of top 3 prediction is 0.935.\n",
    "# Accuracy of top 5 prediction is 0.964.\n",
    "pickle.dump(best_model_svc_linear, open(f'{MODEL_FOLDER_PATH}/model_svc_linear.pkl', 'wb'))\n",
    "pickle.dump(vectorizer_tfidf, open(f'{MODEL_FOLDER_PATH}/vectorizer_svc_linear.pkl', 'wb'))"
   ]
  },
  {
   "cell_type": "markdown",
   "id": "1f9cfa54",
   "metadata": {},
   "source": [
    "## RandomForestClassifier"
   ]
  },
  {
   "cell_type": "code",
   "execution_count": null,
   "id": "7bd09e1a",
   "metadata": {},
   "outputs": [],
   "source": [
    "# user Optuna to tune the hyperparameters for RandomForestClassifier\n",
    "\n",
    "# Define an objective function to optimize\n",
    "def objective(trial):\n",
    "\n",
    "    # Define hyperparameter search space\n",
    "\n",
    "    pamams = {\n",
    "        'n_estimators': trial.suggest_int('n_estimators', 10, 4000, log=True),\n",
    "        'max_depth': trial.suggest_int('max_depth', 2, 32, log=True),\n",
    "        # 'max_features': trial.suggest_categorical('max_features', ['auto', 'sqrt', 'log2']),\n",
    "        'min_samples_split': trial.suggest_int('min_samples_split', 2, 10),\n",
    "        'min_samples_leaf': trial.suggest_int('min_samples_leaf', 1, 10),\n",
    "        # 'bootstrap': trial.suggest_categorical('bootstrap', [True, False]),\n",
    "        'random_state': 42,\n",
    "    }\n",
    "    \n",
    "    # Create and train the SGD Classifier with suggested hyperparameters\n",
    "    model_random_forest = RandomForestClassifier(**pamams)\n",
    "\n",
    "    # Evaluate the model on the validation set\n",
    "    scores = cross_val_score(model_random_forest, X_train_encoded, y_train, cv=5, scoring='accuracy')\n",
    "\n",
    "    return np.mean(scores)\n",
    "\n",
    "# Create an Optuna study and optimize the objective function\n",
    "study = optuna.create_study(direction='maximize')\n",
    "study.optimize(\n",
    "    objective,\n",
    "    n_trials=10, \n",
    "    n_jobs=-1, \n",
    "    show_progress_bar=True\n",
    "    )  # You can adjust the number of trials\n",
    "\n",
    "# Print the best hyperparameters and corresponding accuracy\n",
    "best_params = study.best_params\n",
    "best_accuracy = study.best_value\n",
    "print(\"Best Hyperparameters:\", best_params)\n",
    "\n",
    "best_model_random_forest = RandomForestClassifier(**best_params)\n",
    "best_model_random_forest.fit(X_train_encoded, y_train)\n",
    "\n",
    "# Step 4: Model Evaluation\n",
    "y_pred_random_forest = best_model_random_forest.predict(X_test_tfidf)\n",
    "accuracy = accuracy_score(y_test, y_pred_random_forest)\n",
    "print(f'Accuracy: \\033[94m{accuracy:4f}\\033[0m')\n",
    "\n",
    "report = classification_report(y_test, y_pred_random_forest, digits=3)\n",
    "print(report)\n",
    "\n",
    "plot_confusion_matrix(y_test, y_pred_random_forest, title='Confusion matrix for Rests')\n",
    "df_pred_top5_random_forest = top5_accuracy_report(best_model_random_forest, vectorizer_tfidf, X_test, y_test, pre_processed=True)\n",
    "\n",
    "pickle.dump(best_model_random_forest, open(f'{MODEL_FOLDER_PATH}/model_random_forest.pkl', 'wb'))\n",
    "pickle.dump(vectorizer_tfidf, open(f'{MODEL_FOLDER_PATH}/vectorizer_random_forest.pkl', 'wb'))"
   ]
  },
  {
   "cell_type": "markdown",
   "id": "750b86c0",
   "metadata": {},
   "source": [
    "## Voting model"
   ]
  },
  {
   "cell_type": "code",
   "execution_count": null,
   "id": "76b6c367",
   "metadata": {},
   "outputs": [],
   "source": [
    "# now we have three models, logistic regression, multinomialNB and svc_linear, we can use voting classifier to combine them together\n",
    "from sklearn.ensemble import VotingClassifier\n",
    "\n",
    "# Create a dictionary of the models\n",
    "estimators = [\n",
    "    ('logReg', best_model_logReg),\n",
    "    ('svc_linear', best_model_svc_linear),\n",
    "    ('sgc_classifier', best_model_sgc),\n",
    "]\n",
    "\n",
    "# Create a voting classifier\n",
    "voting = VotingClassifier(estimators, voting='soft', n_jobs=-1)\n",
    "\n",
    "# Fit the voting classifier to the training data\n",
    "voting.fit(X_train_encoded, y_train)\n",
    "\n",
    "# Step 4: Model Evaluation\n",
    "y_pred_voting = voting.predict(X_test_encoded)\n",
    "accuracy = accuracy_score(y_test, y_pred_voting)\n",
    "print(f'Accuracy: \\033[94m{accuracy:.4f}\\033[0m')\n",
    "\n",
    "report = classification_report(y_test, y_pred_voting, digits=3)\n",
    "print(report)\n",
    "\n",
    "plot_confusion_matrix(y_test, y_pred_voting, title='Confusion matrix for Rests')\n",
    "\n",
    "df_pred_top5_voting = top5_accuracy_report(voting, vectorizer, X_test, y_test, pre_processed=True)"
   ]
  },
  {
   "cell_type": "code",
   "execution_count": null,
   "id": "b6aa609d",
   "metadata": {},
   "outputs": [],
   "source": [
    "# Accuracy of top 1 prediction is 0.824.\n",
    "# Accuracy of top 3 prediction is 0.936.\n",
    "# Accuracy of top 5 prediction is 0.963.\n",
    "pickle.dump(voting, open(f'{MODEL_FOLDER_PATH}/model_voting.pkl', 'wb'))\n",
    "pickle.dump(vectorizer_tfidf, open(f'{MODEL_FOLDER_PATH}/vectorizer_voting.pkl', 'wb'))"
   ]
  }
 ],
 "metadata": {
  "kernelspec": {
   "display_name": "Python 3 (ipykernel)",
   "language": "python",
   "name": "python3"
  },
  "language_info": {
   "codemirror_mode": {
    "name": "ipython",
    "version": 3
   },
   "file_extension": ".py",
   "mimetype": "text/x-python",
   "name": "python",
   "nbconvert_exporter": "python",
   "pygments_lexer": "ipython3",
   "version": "3.11.6"
  },
  "toc": {
   "base_numbering": 1,
   "nav_menu": {},
   "number_sections": true,
   "sideBar": true,
   "skip_h1_title": false,
   "title_cell": "Table of Contents",
   "title_sidebar": "Contents",
   "toc_cell": false,
   "toc_position": {},
   "toc_section_display": true,
   "toc_window_display": false
  },
  "widgets": {
   "application/vnd.jupyter.widget-state+json": {
    "state": {},
    "version_major": 2,
    "version_minor": 0
   }
  }
 },
 "nbformat": 4,
 "nbformat_minor": 5
}
